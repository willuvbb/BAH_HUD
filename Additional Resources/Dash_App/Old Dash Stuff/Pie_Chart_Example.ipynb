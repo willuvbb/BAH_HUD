{
 "cells": [
  {
   "cell_type": "code",
   "execution_count": 1,
   "metadata": {},
   "outputs": [
    {
     "data": {
      "text/html": [
       "<div>\n",
       "<style scoped>\n",
       "    .dataframe tbody tr th:only-of-type {\n",
       "        vertical-align: middle;\n",
       "    }\n",
       "\n",
       "    .dataframe tbody tr th {\n",
       "        vertical-align: top;\n",
       "    }\n",
       "\n",
       "    .dataframe thead th {\n",
       "        text-align: right;\n",
       "    }\n",
       "</style>\n",
       "<table border=\"1\" class=\"dataframe\">\n",
       "  <thead>\n",
       "    <tr style=\"text-align: right;\">\n",
       "      <th></th>\n",
       "      <th>Unnamed: 0</th>\n",
       "      <th>tweet_text</th>\n",
       "      <th>Primary</th>\n",
       "      <th>Secondary</th>\n",
       "      <th>timestamp</th>\n",
       "      <th>username</th>\n",
       "      <th>followers_count</th>\n",
       "      <th>Location</th>\n",
       "      <th>State</th>\n",
       "    </tr>\n",
       "  </thead>\n",
       "  <tbody>\n",
       "    <tr>\n",
       "      <th>0</th>\n",
       "      <td>0</td>\n",
       "      <td>@AOC Seems that's a NYC problem and not a fede...</td>\n",
       "      <td>Comment</td>\n",
       "      <td>Frustrated</td>\n",
       "      <td>7/9/19 10:39</td>\n",
       "      <td>ericturbeville1</td>\n",
       "      <td>27.0</td>\n",
       "      <td>NaN</td>\n",
       "      <td>NaN</td>\n",
       "    </tr>\n",
       "    <tr>\n",
       "      <th>1</th>\n",
       "      <td>1</td>\n",
       "      <td>@LukeHowarthMP I would prefer Services for all...</td>\n",
       "      <td>Policy Decision</td>\n",
       "      <td>Frustrated</td>\n",
       "      <td>7/9/19 3:59</td>\n",
       "      <td>SisterOMalley</td>\n",
       "      <td>699.0</td>\n",
       "      <td>Armidale NSW</td>\n",
       "      <td>NaN</td>\n",
       "    </tr>\n",
       "    <tr>\n",
       "      <th>2</th>\n",
       "      <td>2</td>\n",
       "      <td>@IamJohnBurnett @AOC Is there a reason we can'...</td>\n",
       "      <td>Question</td>\n",
       "      <td>Frustrated</td>\n",
       "      <td>7/8/19 19:39</td>\n",
       "      <td>MJtheProphet</td>\n",
       "      <td>418.0</td>\n",
       "      <td>Ohio</td>\n",
       "      <td>OH</td>\n",
       "    </tr>\n",
       "    <tr>\n",
       "      <th>3</th>\n",
       "      <td>3</td>\n",
       "      <td>@NickyDommy @byJoshuaDavis @yimbyaction It is ...</td>\n",
       "      <td>Comment</td>\n",
       "      <td>Frustrated</td>\n",
       "      <td>7/8/19 15:00</td>\n",
       "      <td>WhenItDiesThere</td>\n",
       "      <td>135.0</td>\n",
       "      <td>California, USA</td>\n",
       "      <td>CA</td>\n",
       "    </tr>\n",
       "    <tr>\n",
       "      <th>4</th>\n",
       "      <td>4</td>\n",
       "      <td>@fresh_knight The alternative is to ticket, fi...</td>\n",
       "      <td>Comment</td>\n",
       "      <td>Frustrated</td>\n",
       "      <td>7/8/19 4:19</td>\n",
       "      <td>No_Es_Noe</td>\n",
       "      <td>12.0</td>\n",
       "      <td>Montopolis, Austin</td>\n",
       "      <td>NaN</td>\n",
       "    </tr>\n",
       "    <tr>\n",
       "      <th>5</th>\n",
       "      <td>5</td>\n",
       "      <td>\"They tell us to paint over it, keep the windo...</td>\n",
       "      <td>Maintenance</td>\n",
       "      <td>Frustrated</td>\n",
       "      <td>7/7/19 23:23</td>\n",
       "      <td>ACMVora</td>\n",
       "      <td>3304.0</td>\n",
       "      <td>Australia</td>\n",
       "      <td>NaN</td>\n",
       "    </tr>\n",
       "    <tr>\n",
       "      <th>6</th>\n",
       "      <td>6</td>\n",
       "      <td>\"They tell us to paint over it, keep the windo...</td>\n",
       "      <td>Maintenance</td>\n",
       "      <td>Frustrated</td>\n",
       "      <td>7/7/19 21:22</td>\n",
       "      <td>ACMVora</td>\n",
       "      <td>3304.0</td>\n",
       "      <td>Australia</td>\n",
       "      <td>NaN</td>\n",
       "    </tr>\n",
       "    <tr>\n",
       "      <th>7</th>\n",
       "      <td>7</td>\n",
       "      <td>@RashidaTlaib Let\\xe2\\x80\\x99s send all of the...</td>\n",
       "      <td>Comment</td>\n",
       "      <td>Frustrated</td>\n",
       "      <td>7/7/19 16:32</td>\n",
       "      <td>lisac0814</td>\n",
       "      <td>127.0</td>\n",
       "      <td>NaN</td>\n",
       "      <td>NaN</td>\n",
       "    </tr>\n",
       "    <tr>\n",
       "      <th>8</th>\n",
       "      <td>8</td>\n",
       "      <td>@WhiteHouse I want the immediate home expense ...</td>\n",
       "      <td>Question</td>\n",
       "      <td>Frustrated</td>\n",
       "      <td>7/6/19 20:45</td>\n",
       "      <td>PCaleef</td>\n",
       "      <td>7.0</td>\n",
       "      <td>New Jersey, USA</td>\n",
       "      <td>NJ</td>\n",
       "    </tr>\n",
       "    <tr>\n",
       "      <th>9</th>\n",
       "      <td>9</td>\n",
       "      <td>@yasminxakh ok first of all this is like one o...</td>\n",
       "      <td>Comment</td>\n",
       "      <td>Frustrated</td>\n",
       "      <td>7/6/19 6:00</td>\n",
       "      <td>caffeinelesbian</td>\n",
       "      <td>23.0</td>\n",
       "      <td>NaN</td>\n",
       "      <td>NaN</td>\n",
       "    </tr>\n",
       "    <tr>\n",
       "      <th>10</th>\n",
       "      <td>10</td>\n",
       "      <td>@geoffsimmonz Because their governments invest...</td>\n",
       "      <td>Comment</td>\n",
       "      <td>Frustrated</td>\n",
       "      <td>7/6/19 4:18</td>\n",
       "      <td>BLatro</td>\n",
       "      <td>28.0</td>\n",
       "      <td>New Zealand</td>\n",
       "      <td>NaN</td>\n",
       "    </tr>\n",
       "    <tr>\n",
       "      <th>11</th>\n",
       "      <td>11</td>\n",
       "      <td>@Sofonisbe @peter__stern @ewarren i don\\xe2\\x8...</td>\n",
       "      <td>Question</td>\n",
       "      <td>Confused</td>\n",
       "      <td>7/6/19 1:24</td>\n",
       "      <td>youlickboots</td>\n",
       "      <td>433.0</td>\n",
       "      <td>Carrboro, NC</td>\n",
       "      <td>NC</td>\n",
       "    </tr>\n",
       "    <tr>\n",
       "      <th>12</th>\n",
       "      <td>12</td>\n",
       "      <td>Public subsidized housing has long suffered fr...</td>\n",
       "      <td>News</td>\n",
       "      <td>Neutral</td>\n",
       "      <td>7/5/19 11:03</td>\n",
       "      <td>SAPPartnerEdge</td>\n",
       "      <td>26118.0</td>\n",
       "      <td>NaN</td>\n",
       "      <td>NaN</td>\n",
       "    </tr>\n",
       "    <tr>\n",
       "      <th>13</th>\n",
       "      <td>13</td>\n",
       "      <td>This policy is a good ex of the problem with W...</td>\n",
       "      <td>Question</td>\n",
       "      <td>Frustrated</td>\n",
       "      <td>7/4/19 19:33</td>\n",
       "      <td>TSBigMoney</td>\n",
       "      <td>294.0</td>\n",
       "      <td>Post-Reality</td>\n",
       "      <td>NaN</td>\n",
       "    </tr>\n",
       "    <tr>\n",
       "      <th>14</th>\n",
       "      <td>14</td>\n",
       "      <td>A public housing tenant thought she wouldn't n...</td>\n",
       "      <td>Maintenance</td>\n",
       "      <td>Frustrated</td>\n",
       "      <td>7/4/19 13:00</td>\n",
       "      <td>NY1</td>\n",
       "      <td>446534.0</td>\n",
       "      <td>New York City</td>\n",
       "      <td>NY</td>\n",
       "    </tr>\n",
       "    <tr>\n",
       "      <th>15</th>\n",
       "      <td>15</td>\n",
       "      <td>@WhenDovesCry2 @Erstejahre @AdamBandt @QldGree...</td>\n",
       "      <td>Comment</td>\n",
       "      <td>Frustrated</td>\n",
       "      <td>7/4/19 12:33</td>\n",
       "      <td>helen_it</td>\n",
       "      <td>460.0</td>\n",
       "      <td>Wisconsin</td>\n",
       "      <td>WI</td>\n",
       "    </tr>\n",
       "    <tr>\n",
       "      <th>16</th>\n",
       "      <td>16</td>\n",
       "      <td>@ApoliticalN @beamish_girl @JohnFugelsang I\\xe...</td>\n",
       "      <td>Comment</td>\n",
       "      <td>Frustrated</td>\n",
       "      <td>7/4/19 3:29</td>\n",
       "      <td>RocessGlenn</td>\n",
       "      <td>2191.0</td>\n",
       "      <td>Washington, USA</td>\n",
       "      <td>WA</td>\n",
       "    </tr>\n",
       "    <tr>\n",
       "      <th>17</th>\n",
       "      <td>17</td>\n",
       "      <td>The problem is larger than that though. The fi...</td>\n",
       "      <td>Comment</td>\n",
       "      <td>Frustrated</td>\n",
       "      <td>7/4/19 2:00</td>\n",
       "      <td>parismarx</td>\n",
       "      <td>2334.0</td>\n",
       "      <td>Canada</td>\n",
       "      <td>NaN</td>\n",
       "    </tr>\n",
       "    <tr>\n",
       "      <th>18</th>\n",
       "      <td>18</td>\n",
       "      <td>First, deport all the illegals on the streets ...</td>\n",
       "      <td>Comment</td>\n",
       "      <td>Frustrated</td>\n",
       "      <td>7/3/19 14:53</td>\n",
       "      <td>marie_michigan</td>\n",
       "      <td>1385.0</td>\n",
       "      <td>NaN</td>\n",
       "      <td>NaN</td>\n",
       "    </tr>\n",
       "    <tr>\n",
       "      <th>19</th>\n",
       "      <td>19</td>\n",
       "      <td>@jdcmedlock @perceval_theron @1_swimbeast Prob...</td>\n",
       "      <td>Comment</td>\n",
       "      <td>Frustrated</td>\n",
       "      <td>7/3/19 4:11</td>\n",
       "      <td>DIorioNathaniel</td>\n",
       "      <td>2648.0</td>\n",
       "      <td>High Park-Swansea, Toronto</td>\n",
       "      <td>NaN</td>\n",
       "    </tr>\n",
       "    <tr>\n",
       "      <th>20</th>\n",
       "      <td>20</td>\n",
       "      <td>@GovRonDeSantis there is a housing crisis in H...</td>\n",
       "      <td>Question</td>\n",
       "      <td>Frustrated</td>\n",
       "      <td>7/2/19 21:22</td>\n",
       "      <td>jbenson0428</td>\n",
       "      <td>4271.0</td>\n",
       "      <td>Largo, FL</td>\n",
       "      <td>FL</td>\n",
       "    </tr>\n",
       "    <tr>\n",
       "      <th>21</th>\n",
       "      <td>21</td>\n",
       "      <td>@SoulReadr #homelessness isn\\xe2\\x80\\x99t gend...</td>\n",
       "      <td>Experience</td>\n",
       "      <td>Frustrated</td>\n",
       "      <td>7/2/19 15:14</td>\n",
       "      <td>twtrrr</td>\n",
       "      <td>2124.0</td>\n",
       "      <td>Australia</td>\n",
       "      <td>NaN</td>\n",
       "    </tr>\n",
       "    <tr>\n",
       "      <th>22</th>\n",
       "      <td>22</td>\n",
       "      <td>@Duncan_de_Ese @NYCHA What\\xe2\\x80\\x99s your s...</td>\n",
       "      <td>Question</td>\n",
       "      <td>Frustrated</td>\n",
       "      <td>7/9/19 0:40</td>\n",
       "      <td>WillBredderman</td>\n",
       "      <td>5374.0</td>\n",
       "      <td>Bay Ridge, Brooklyn</td>\n",
       "      <td>NaN</td>\n",
       "    </tr>\n",
       "    <tr>\n",
       "      <th>23</th>\n",
       "      <td>23</td>\n",
       "      <td>@DreverIan @BrentToderian Public housing is a ...</td>\n",
       "      <td>Comment</td>\n",
       "      <td>Frustrated</td>\n",
       "      <td>7/7/19 5:07</td>\n",
       "      <td>RoseBigSky</td>\n",
       "      <td>8.0</td>\n",
       "      <td>NaN</td>\n",
       "      <td>NaN</td>\n",
       "    </tr>\n",
       "    <tr>\n",
       "      <th>24</th>\n",
       "      <td>24</td>\n",
       "      <td>@DaSilvaRVA I don't think anyone is going to d...</td>\n",
       "      <td>Question</td>\n",
       "      <td>Frustrated</td>\n",
       "      <td>7/4/19 14:33</td>\n",
       "      <td>Dil37343036</td>\n",
       "      <td>2.0</td>\n",
       "      <td>Rocketts Landing\\n</td>\n",
       "      <td>NaN</td>\n",
       "    </tr>\n",
       "    <tr>\n",
       "      <th>25</th>\n",
       "      <td>25</td>\n",
       "      <td>@drschweitzer @keynesianr @ShaneDPhillips @elp...</td>\n",
       "      <td>Comment</td>\n",
       "      <td>Frustrated</td>\n",
       "      <td>7/9/19 17:42</td>\n",
       "      <td>MarketUrbanism</td>\n",
       "      <td>27724.0</td>\n",
       "      <td>Wherever permits can be pulled</td>\n",
       "      <td>NaN</td>\n",
       "    </tr>\n",
       "    <tr>\n",
       "      <th>26</th>\n",
       "      <td>26</td>\n",
       "      <td>One leader does not transform our nation. @jan...</td>\n",
       "      <td>Comment</td>\n",
       "      <td>Positive</td>\n",
       "      <td>7/9/19 17:42</td>\n",
       "      <td>JaneKim</td>\n",
       "      <td>31879.0</td>\n",
       "      <td>San Francisco</td>\n",
       "      <td>NaN</td>\n",
       "    </tr>\n",
       "    <tr>\n",
       "      <th>27</th>\n",
       "      <td>27</td>\n",
       "      <td>Let\\xe2\\x80\\x99s worry @SDG2030,it\\xe2\\x80\\x99...</td>\n",
       "      <td>Comment</td>\n",
       "      <td>Frustrated</td>\n",
       "      <td>7/9/19 17:40</td>\n",
       "      <td>benavides_marta</td>\n",
       "      <td>603.0</td>\n",
       "      <td>el salvador</td>\n",
       "      <td>NaN</td>\n",
       "    </tr>\n",
       "    <tr>\n",
       "      <th>28</th>\n",
       "      <td>28</td>\n",
       "      <td>Let\\xe2\\x80\\x99s worry @SDG2030,it\\xe2\\x80\\x99...</td>\n",
       "      <td>Comment</td>\n",
       "      <td>Frustrated</td>\n",
       "      <td>7/9/19 17:40</td>\n",
       "      <td>benavides_marta</td>\n",
       "      <td>603.0</td>\n",
       "      <td>el salvador</td>\n",
       "      <td>NaN</td>\n",
       "    </tr>\n",
       "    <tr>\n",
       "      <th>29</th>\n",
       "      <td>29</td>\n",
       "      <td>@globalcompact @UN @GlobalGoalsUN @UNDESA Let\\...</td>\n",
       "      <td>Comment</td>\n",
       "      <td>Frustrated</td>\n",
       "      <td>7/9/19 17:40</td>\n",
       "      <td>benavides_marta</td>\n",
       "      <td>603.0</td>\n",
       "      <td>el salvador</td>\n",
       "      <td>NaN</td>\n",
       "    </tr>\n",
       "    <tr>\n",
       "      <th>...</th>\n",
       "      <td>...</td>\n",
       "      <td>...</td>\n",
       "      <td>...</td>\n",
       "      <td>...</td>\n",
       "      <td>...</td>\n",
       "      <td>...</td>\n",
       "      <td>...</td>\n",
       "      <td>...</td>\n",
       "      <td>...</td>\n",
       "    </tr>\n",
       "    <tr>\n",
       "      <th>939</th>\n",
       "      <td>939</td>\n",
       "      <td>\\xe2\\x80\\x9cRe-streeting could help end the is...</td>\n",
       "      <td>Policy Decision</td>\n",
       "      <td>Positive</td>\n",
       "      <td>7/8/19 19:00</td>\n",
       "      <td>TheBeatMI</td>\n",
       "      <td>7584.0</td>\n",
       "      <td>New York, NY</td>\n",
       "      <td>NY</td>\n",
       "    </tr>\n",
       "    <tr>\n",
       "      <th>940</th>\n",
       "      <td>940</td>\n",
       "      <td>@TweetBenMax @nycha lead! Should be enough to ...</td>\n",
       "      <td>Maintenance</td>\n",
       "      <td>Confused</td>\n",
       "      <td>7/8/19 18:55</td>\n",
       "      <td>Gotham_Strong</td>\n",
       "      <td>54.0</td>\n",
       "      <td>Manhattan, NY</td>\n",
       "      <td>NY</td>\n",
       "    </tr>\n",
       "    <tr>\n",
       "      <th>941</th>\n",
       "      <td>941</td>\n",
       "      <td>@KennyManero @AOC Crisis because of #Socialist...</td>\n",
       "      <td>Comment</td>\n",
       "      <td>Frustrated</td>\n",
       "      <td>7/8/19 18:48</td>\n",
       "      <td>IamJohnBurnett</td>\n",
       "      <td>10618.0</td>\n",
       "      <td>New York, NY</td>\n",
       "      <td>NY</td>\n",
       "    </tr>\n",
       "    <tr>\n",
       "      <th>942</th>\n",
       "      <td>942</td>\n",
       "      <td>@AOC .@IamJohnBurnett, it\\xe2\\x80\\x99s seems l...</td>\n",
       "      <td>Policy Decision</td>\n",
       "      <td>Frustrated</td>\n",
       "      <td>7/8/19 18:38</td>\n",
       "      <td>JDArgonaut</td>\n",
       "      <td>212.0</td>\n",
       "      <td>Charleston, SC</td>\n",
       "      <td>SC</td>\n",
       "    </tr>\n",
       "    <tr>\n",
       "      <th>943</th>\n",
       "      <td>943</td>\n",
       "      <td>@AOC Hey I know it\\xe2\\x80\\x99s not the border...</td>\n",
       "      <td>Experience</td>\n",
       "      <td>Frustrated</td>\n",
       "      <td>7/8/19 18:36</td>\n",
       "      <td>EricCnyc212</td>\n",
       "      <td>4.0</td>\n",
       "      <td>NaN</td>\n",
       "      <td>NaN</td>\n",
       "    </tr>\n",
       "    <tr>\n",
       "      <th>944</th>\n",
       "      <td>944</td>\n",
       "      <td>@Tr0nwha1e @TwitchyMac @AOC @GOP Denial isn\\xe...</td>\n",
       "      <td>Comment</td>\n",
       "      <td>Frustrated</td>\n",
       "      <td>7/8/19 18:36</td>\n",
       "      <td>03lefty</td>\n",
       "      <td>79.0</td>\n",
       "      <td>NaN</td>\n",
       "      <td>NaN</td>\n",
       "    </tr>\n",
       "    <tr>\n",
       "      <th>945</th>\n",
       "      <td>945</td>\n",
       "      <td>@NYGovCuomo Go get your car inspected and stop...</td>\n",
       "      <td>Comment</td>\n",
       "      <td>Frustrated</td>\n",
       "      <td>7/8/19 18:36</td>\n",
       "      <td>murica_is_great</td>\n",
       "      <td>15.0</td>\n",
       "      <td>Newark, NJ</td>\n",
       "      <td>NJ</td>\n",
       "    </tr>\n",
       "    <tr>\n",
       "      <th>946</th>\n",
       "      <td>946</td>\n",
       "      <td>It\\xe2\\x80\\x99s time to Reclaim your power and...</td>\n",
       "      <td>News</td>\n",
       "      <td>Positive</td>\n",
       "      <td>7/8/19 18:34</td>\n",
       "      <td>mvmtschool</td>\n",
       "      <td>3626.0</td>\n",
       "      <td>United States</td>\n",
       "      <td>NaN</td>\n",
       "    </tr>\n",
       "    <tr>\n",
       "      <th>947</th>\n",
       "      <td>947</td>\n",
       "      <td>@AOC This is a lie, the left has run NYCHA\\xe2...</td>\n",
       "      <td>Comment</td>\n",
       "      <td>Frustrated</td>\n",
       "      <td>7/8/19 18:33</td>\n",
       "      <td>Freeminds66</td>\n",
       "      <td>258.0</td>\n",
       "      <td>NaN</td>\n",
       "      <td>NaN</td>\n",
       "    </tr>\n",
       "    <tr>\n",
       "      <th>948</th>\n",
       "      <td>948</td>\n",
       "      <td>@NYCHA is in crisis because the fed. gov't div...</td>\n",
       "      <td>Policy Decision</td>\n",
       "      <td>Positive</td>\n",
       "      <td>7/8/19 18:33</td>\n",
       "      <td>AlickaASamuel41</td>\n",
       "      <td>1291.0</td>\n",
       "      <td>Brooklyn, NY</td>\n",
       "      <td>NY</td>\n",
       "    </tr>\n",
       "    <tr>\n",
       "      <th>949</th>\n",
       "      <td>949</td>\n",
       "      <td>Things I've learned from Twitter today.  The #...</td>\n",
       "      <td>Comment</td>\n",
       "      <td>Frustrated</td>\n",
       "      <td>7/8/19 18:33</td>\n",
       "      <td>Bushwqr</td>\n",
       "      <td>317.0</td>\n",
       "      <td>Oregon, USA</td>\n",
       "      <td>OR</td>\n",
       "    </tr>\n",
       "    <tr>\n",
       "      <th>950</th>\n",
       "      <td>950</td>\n",
       "      <td>@BenjaminHyle @AOC If what you believe to be t...</td>\n",
       "      <td>Comment</td>\n",
       "      <td>Frustrated</td>\n",
       "      <td>7/8/19 18:32</td>\n",
       "      <td>scripsitveritas</td>\n",
       "      <td>21.0</td>\n",
       "      <td>NaN</td>\n",
       "      <td>NaN</td>\n",
       "    </tr>\n",
       "    <tr>\n",
       "      <th>951</th>\n",
       "      <td>951</td>\n",
       "      <td>@forevertawl @IamJohnBurnett @AOC Hold up, AOC...</td>\n",
       "      <td>Comment</td>\n",
       "      <td>Frustrated</td>\n",
       "      <td>7/8/19 18:32</td>\n",
       "      <td>jacksurfs204</td>\n",
       "      <td>1578.0</td>\n",
       "      <td>San Clemente</td>\n",
       "      <td>NaN</td>\n",
       "    </tr>\n",
       "    <tr>\n",
       "      <th>952</th>\n",
       "      <td>952</td>\n",
       "      <td>The lead crisis at #NYCHA keeps on getting ugl...</td>\n",
       "      <td>Maintenance</td>\n",
       "      <td>Positive</td>\n",
       "      <td>7/8/19 18:31</td>\n",
       "      <td>yossy770</td>\n",
       "      <td>1055.0</td>\n",
       "      <td>NYC</td>\n",
       "      <td>NY</td>\n",
       "    </tr>\n",
       "    <tr>\n",
       "      <th>953</th>\n",
       "      <td>953</td>\n",
       "      <td>@AOC How is this GOP's fault? https://t.co/EQg...</td>\n",
       "      <td>Question</td>\n",
       "      <td>Confused</td>\n",
       "      <td>7/8/19 18:31</td>\n",
       "      <td>creeker112</td>\n",
       "      <td>5.0</td>\n",
       "      <td>NaN</td>\n",
       "      <td>NaN</td>\n",
       "    </tr>\n",
       "    <tr>\n",
       "      <th>954</th>\n",
       "      <td>954</td>\n",
       "      <td>@AOC So weird-  Kathryn Garcia was appointed a...</td>\n",
       "      <td>Comment</td>\n",
       "      <td>Neutral</td>\n",
       "      <td>7/8/19 18:30</td>\n",
       "      <td>creeker112</td>\n",
       "      <td>5.0</td>\n",
       "      <td>NaN</td>\n",
       "      <td>NaN</td>\n",
       "    </tr>\n",
       "    <tr>\n",
       "      <th>955</th>\n",
       "      <td>955</td>\n",
       "      <td>We continue to offer free to the patient lead ...</td>\n",
       "      <td>News</td>\n",
       "      <td>Positive</td>\n",
       "      <td>7/8/19 18:30</td>\n",
       "      <td>kaminhealth</td>\n",
       "      <td>1100.0</td>\n",
       "      <td>New York, USA</td>\n",
       "      <td>NY</td>\n",
       "    </tr>\n",
       "    <tr>\n",
       "      <th>956</th>\n",
       "      <td>956</td>\n",
       "      <td>City failed to remove lead-poisoned kids from ...</td>\n",
       "      <td>News</td>\n",
       "      <td>Neutral</td>\n",
       "      <td>7/8/19 18:30</td>\n",
       "      <td>NYCity_Plow</td>\n",
       "      <td>2816.0</td>\n",
       "      <td>Internet</td>\n",
       "      <td>NaN</td>\n",
       "    </tr>\n",
       "    <tr>\n",
       "      <th>957</th>\n",
       "      <td>957</td>\n",
       "      <td>NYCHA\\xe2\\x80\\x99s delays caused my poisoned s...</td>\n",
       "      <td>Experience</td>\n",
       "      <td>Frustrated</td>\n",
       "      <td>7/8/19 18:30</td>\n",
       "      <td>NYCity_Plow</td>\n",
       "      <td>2816.0</td>\n",
       "      <td>Internet</td>\n",
       "      <td>NaN</td>\n",
       "    </tr>\n",
       "    <tr>\n",
       "      <th>958</th>\n",
       "      <td>958</td>\n",
       "      <td>@AOC Actually, NYCHA has been democrat for the...</td>\n",
       "      <td>Comment</td>\n",
       "      <td>Frustrated</td>\n",
       "      <td>7/8/19 18:29</td>\n",
       "      <td>DanielR79899855</td>\n",
       "      <td>244.0</td>\n",
       "      <td>NY, Vrsac</td>\n",
       "      <td>NY</td>\n",
       "    </tr>\n",
       "    <tr>\n",
       "      <th>959</th>\n",
       "      <td>959</td>\n",
       "      <td>@AOC Then there\\xe2\\x80\\x99s another lie. The ...</td>\n",
       "      <td>Comment</td>\n",
       "      <td>Frustrated</td>\n",
       "      <td>7/8/19 18:29</td>\n",
       "      <td>JedSimon7</td>\n",
       "      <td>9.0</td>\n",
       "      <td>NaN</td>\n",
       "      <td>NaN</td>\n",
       "    </tr>\n",
       "    <tr>\n",
       "      <th>960</th>\n",
       "      <td>960</td>\n",
       "      <td>Look at the bright side:  For all of @BilldeBl...</td>\n",
       "      <td>Comment</td>\n",
       "      <td>Positive</td>\n",
       "      <td>7/8/19 18:25</td>\n",
       "      <td>JamesEHiggins</td>\n",
       "      <td>2537.0</td>\n",
       "      <td>New York, NY</td>\n",
       "      <td>NY</td>\n",
       "    </tr>\n",
       "    <tr>\n",
       "      <th>961</th>\n",
       "      <td>961</td>\n",
       "      <td>@AOC I think it\\xe2\\x80\\x99s hysterical that y...</td>\n",
       "      <td>Comment</td>\n",
       "      <td>Frustrated</td>\n",
       "      <td>7/8/19 18:24</td>\n",
       "      <td>HarryS109</td>\n",
       "      <td>125.0</td>\n",
       "      <td>NaN</td>\n",
       "      <td>NaN</td>\n",
       "    </tr>\n",
       "    <tr>\n",
       "      <th>962</th>\n",
       "      <td>962</td>\n",
       "      <td>@AOC When has the GOP ever had a majority in N...</td>\n",
       "      <td>Comment</td>\n",
       "      <td>Frustrated</td>\n",
       "      <td>7/8/19 18:23</td>\n",
       "      <td>redwins0608</td>\n",
       "      <td>65.0</td>\n",
       "      <td>IL</td>\n",
       "      <td>IL</td>\n",
       "    </tr>\n",
       "    <tr>\n",
       "      <th>963</th>\n",
       "      <td>963</td>\n",
       "      <td>City failed to remove lead-poisoned kids from ...</td>\n",
       "      <td>News</td>\n",
       "      <td>Neutral</td>\n",
       "      <td>7/8/19 18:21</td>\n",
       "      <td>DredScott13</td>\n",
       "      <td>20.0</td>\n",
       "      <td>NaN</td>\n",
       "      <td>NaN</td>\n",
       "    </tr>\n",
       "    <tr>\n",
       "      <th>964</th>\n",
       "      <td>964</td>\n",
       "      <td>@JessCauseICant @AOC So it's not because NYCHA...</td>\n",
       "      <td>Comment</td>\n",
       "      <td>Neutral</td>\n",
       "      <td>7/8/19 18:19</td>\n",
       "      <td>homelessnyer</td>\n",
       "      <td>366.0</td>\n",
       "      <td>New York, NY</td>\n",
       "      <td>NY</td>\n",
       "    </tr>\n",
       "    <tr>\n",
       "      <th>965</th>\n",
       "      <td>965</td>\n",
       "      <td>@Muggy93629541 @AOC See, thing is...  that mon...</td>\n",
       "      <td>Comment</td>\n",
       "      <td>Neutral</td>\n",
       "      <td>7/8/19 18:18</td>\n",
       "      <td>TwitchyMac</td>\n",
       "      <td>19.0</td>\n",
       "      <td>NaN</td>\n",
       "      <td>NaN</td>\n",
       "    </tr>\n",
       "    <tr>\n",
       "      <th>966</th>\n",
       "      <td>966</td>\n",
       "      <td>@AOC @AOC How can you solve the problem of NYC...</td>\n",
       "      <td>Maintenance</td>\n",
       "      <td>Frustrated</td>\n",
       "      <td>7/8/19 18:18</td>\n",
       "      <td>MiguelCongress</td>\n",
       "      <td>48.0</td>\n",
       "      <td>Bronx, NY</td>\n",
       "      <td>NY</td>\n",
       "    </tr>\n",
       "    <tr>\n",
       "      <th>967</th>\n",
       "      <td>967</td>\n",
       "      <td>@MatthewAdessa1 @AOC Does he control the purse...</td>\n",
       "      <td>Question</td>\n",
       "      <td>Frustrated</td>\n",
       "      <td>7/8/19 18:16</td>\n",
       "      <td>TwitchyMac</td>\n",
       "      <td>19.0</td>\n",
       "      <td>NaN</td>\n",
       "      <td>NaN</td>\n",
       "    </tr>\n",
       "    <tr>\n",
       "      <th>968</th>\n",
       "      <td>968</td>\n",
       "      <td>@JessCauseICant @AOC Are the conditions bad be...</td>\n",
       "      <td>Question</td>\n",
       "      <td>Frustrated</td>\n",
       "      <td>7/8/19 18:16</td>\n",
       "      <td>homelessnyer</td>\n",
       "      <td>366.0</td>\n",
       "      <td>New York, NY</td>\n",
       "      <td>NY</td>\n",
       "    </tr>\n",
       "  </tbody>\n",
       "</table>\n",
       "<p>969 rows × 9 columns</p>\n",
       "</div>"
      ],
      "text/plain": [
       "     Unnamed: 0                                         tweet_text  \\\n",
       "0             0  @AOC Seems that's a NYC problem and not a fede...   \n",
       "1             1  @LukeHowarthMP I would prefer Services for all...   \n",
       "2             2  @IamJohnBurnett @AOC Is there a reason we can'...   \n",
       "3             3  @NickyDommy @byJoshuaDavis @yimbyaction It is ...   \n",
       "4             4  @fresh_knight The alternative is to ticket, fi...   \n",
       "5             5  \"They tell us to paint over it, keep the windo...   \n",
       "6             6  \"They tell us to paint over it, keep the windo...   \n",
       "7             7  @RashidaTlaib Let\\xe2\\x80\\x99s send all of the...   \n",
       "8             8  @WhiteHouse I want the immediate home expense ...   \n",
       "9             9  @yasminxakh ok first of all this is like one o...   \n",
       "10           10  @geoffsimmonz Because their governments invest...   \n",
       "11           11  @Sofonisbe @peter__stern @ewarren i don\\xe2\\x8...   \n",
       "12           12  Public subsidized housing has long suffered fr...   \n",
       "13           13  This policy is a good ex of the problem with W...   \n",
       "14           14  A public housing tenant thought she wouldn't n...   \n",
       "15           15  @WhenDovesCry2 @Erstejahre @AdamBandt @QldGree...   \n",
       "16           16  @ApoliticalN @beamish_girl @JohnFugelsang I\\xe...   \n",
       "17           17  The problem is larger than that though. The fi...   \n",
       "18           18  First, deport all the illegals on the streets ...   \n",
       "19           19  @jdcmedlock @perceval_theron @1_swimbeast Prob...   \n",
       "20           20  @GovRonDeSantis there is a housing crisis in H...   \n",
       "21           21  @SoulReadr #homelessness isn\\xe2\\x80\\x99t gend...   \n",
       "22           22  @Duncan_de_Ese @NYCHA What\\xe2\\x80\\x99s your s...   \n",
       "23           23  @DreverIan @BrentToderian Public housing is a ...   \n",
       "24           24  @DaSilvaRVA I don't think anyone is going to d...   \n",
       "25           25  @drschweitzer @keynesianr @ShaneDPhillips @elp...   \n",
       "26           26  One leader does not transform our nation. @jan...   \n",
       "27           27  Let\\xe2\\x80\\x99s worry @SDG2030,it\\xe2\\x80\\x99...   \n",
       "28           28  Let\\xe2\\x80\\x99s worry @SDG2030,it\\xe2\\x80\\x99...   \n",
       "29           29  @globalcompact @UN @GlobalGoalsUN @UNDESA Let\\...   \n",
       "..          ...                                                ...   \n",
       "939         939  \\xe2\\x80\\x9cRe-streeting could help end the is...   \n",
       "940         940  @TweetBenMax @nycha lead! Should be enough to ...   \n",
       "941         941  @KennyManero @AOC Crisis because of #Socialist...   \n",
       "942         942  @AOC .@IamJohnBurnett, it\\xe2\\x80\\x99s seems l...   \n",
       "943         943  @AOC Hey I know it\\xe2\\x80\\x99s not the border...   \n",
       "944         944  @Tr0nwha1e @TwitchyMac @AOC @GOP Denial isn\\xe...   \n",
       "945         945  @NYGovCuomo Go get your car inspected and stop...   \n",
       "946         946  It\\xe2\\x80\\x99s time to Reclaim your power and...   \n",
       "947         947  @AOC This is a lie, the left has run NYCHA\\xe2...   \n",
       "948         948  @NYCHA is in crisis because the fed. gov't div...   \n",
       "949         949  Things I've learned from Twitter today.  The #...   \n",
       "950         950  @BenjaminHyle @AOC If what you believe to be t...   \n",
       "951         951  @forevertawl @IamJohnBurnett @AOC Hold up, AOC...   \n",
       "952         952  The lead crisis at #NYCHA keeps on getting ugl...   \n",
       "953         953  @AOC How is this GOP's fault? https://t.co/EQg...   \n",
       "954         954  @AOC So weird-  Kathryn Garcia was appointed a...   \n",
       "955         955  We continue to offer free to the patient lead ...   \n",
       "956         956  City failed to remove lead-poisoned kids from ...   \n",
       "957         957  NYCHA\\xe2\\x80\\x99s delays caused my poisoned s...   \n",
       "958         958  @AOC Actually, NYCHA has been democrat for the...   \n",
       "959         959  @AOC Then there\\xe2\\x80\\x99s another lie. The ...   \n",
       "960         960  Look at the bright side:  For all of @BilldeBl...   \n",
       "961         961  @AOC I think it\\xe2\\x80\\x99s hysterical that y...   \n",
       "962         962  @AOC When has the GOP ever had a majority in N...   \n",
       "963         963  City failed to remove lead-poisoned kids from ...   \n",
       "964         964  @JessCauseICant @AOC So it's not because NYCHA...   \n",
       "965         965  @Muggy93629541 @AOC See, thing is...  that mon...   \n",
       "966         966  @AOC @AOC How can you solve the problem of NYC...   \n",
       "967         967  @MatthewAdessa1 @AOC Does he control the purse...   \n",
       "968         968  @JessCauseICant @AOC Are the conditions bad be...   \n",
       "\n",
       "             Primary   Secondary     timestamp         username  \\\n",
       "0            Comment  Frustrated  7/9/19 10:39  ericturbeville1   \n",
       "1    Policy Decision  Frustrated   7/9/19 3:59    SisterOMalley   \n",
       "2           Question  Frustrated  7/8/19 19:39     MJtheProphet   \n",
       "3            Comment  Frustrated  7/8/19 15:00  WhenItDiesThere   \n",
       "4            Comment  Frustrated   7/8/19 4:19        No_Es_Noe   \n",
       "5        Maintenance  Frustrated  7/7/19 23:23          ACMVora   \n",
       "6        Maintenance  Frustrated  7/7/19 21:22          ACMVora   \n",
       "7            Comment  Frustrated  7/7/19 16:32        lisac0814   \n",
       "8           Question  Frustrated  7/6/19 20:45          PCaleef   \n",
       "9            Comment  Frustrated   7/6/19 6:00  caffeinelesbian   \n",
       "10           Comment  Frustrated   7/6/19 4:18           BLatro   \n",
       "11          Question    Confused   7/6/19 1:24     youlickboots   \n",
       "12              News     Neutral  7/5/19 11:03   SAPPartnerEdge   \n",
       "13          Question  Frustrated  7/4/19 19:33       TSBigMoney   \n",
       "14       Maintenance  Frustrated  7/4/19 13:00              NY1   \n",
       "15           Comment  Frustrated  7/4/19 12:33         helen_it   \n",
       "16           Comment  Frustrated   7/4/19 3:29      RocessGlenn   \n",
       "17           Comment  Frustrated   7/4/19 2:00        parismarx   \n",
       "18           Comment  Frustrated  7/3/19 14:53   marie_michigan   \n",
       "19           Comment  Frustrated   7/3/19 4:11  DIorioNathaniel   \n",
       "20          Question  Frustrated  7/2/19 21:22      jbenson0428   \n",
       "21        Experience  Frustrated  7/2/19 15:14           twtrrr   \n",
       "22          Question  Frustrated   7/9/19 0:40   WillBredderman   \n",
       "23           Comment  Frustrated   7/7/19 5:07       RoseBigSky   \n",
       "24          Question  Frustrated  7/4/19 14:33      Dil37343036   \n",
       "25           Comment  Frustrated  7/9/19 17:42   MarketUrbanism   \n",
       "26           Comment    Positive  7/9/19 17:42          JaneKim   \n",
       "27           Comment  Frustrated  7/9/19 17:40  benavides_marta   \n",
       "28           Comment  Frustrated  7/9/19 17:40  benavides_marta   \n",
       "29           Comment  Frustrated  7/9/19 17:40  benavides_marta   \n",
       "..               ...         ...           ...              ...   \n",
       "939  Policy Decision    Positive  7/8/19 19:00        TheBeatMI   \n",
       "940      Maintenance    Confused  7/8/19 18:55    Gotham_Strong   \n",
       "941          Comment  Frustrated  7/8/19 18:48   IamJohnBurnett   \n",
       "942  Policy Decision  Frustrated  7/8/19 18:38       JDArgonaut   \n",
       "943       Experience  Frustrated  7/8/19 18:36      EricCnyc212   \n",
       "944          Comment  Frustrated  7/8/19 18:36          03lefty   \n",
       "945          Comment  Frustrated  7/8/19 18:36  murica_is_great   \n",
       "946             News    Positive  7/8/19 18:34       mvmtschool   \n",
       "947          Comment  Frustrated  7/8/19 18:33      Freeminds66   \n",
       "948  Policy Decision    Positive  7/8/19 18:33  AlickaASamuel41   \n",
       "949          Comment  Frustrated  7/8/19 18:33          Bushwqr   \n",
       "950          Comment  Frustrated  7/8/19 18:32  scripsitveritas   \n",
       "951          Comment  Frustrated  7/8/19 18:32     jacksurfs204   \n",
       "952      Maintenance    Positive  7/8/19 18:31         yossy770   \n",
       "953         Question    Confused  7/8/19 18:31       creeker112   \n",
       "954          Comment     Neutral  7/8/19 18:30       creeker112   \n",
       "955             News    Positive  7/8/19 18:30      kaminhealth   \n",
       "956             News     Neutral  7/8/19 18:30      NYCity_Plow   \n",
       "957       Experience  Frustrated  7/8/19 18:30      NYCity_Plow   \n",
       "958          Comment  Frustrated  7/8/19 18:29  DanielR79899855   \n",
       "959          Comment  Frustrated  7/8/19 18:29        JedSimon7   \n",
       "960          Comment    Positive  7/8/19 18:25    JamesEHiggins   \n",
       "961          Comment  Frustrated  7/8/19 18:24        HarryS109   \n",
       "962          Comment  Frustrated  7/8/19 18:23      redwins0608   \n",
       "963             News     Neutral  7/8/19 18:21      DredScott13   \n",
       "964          Comment     Neutral  7/8/19 18:19     homelessnyer   \n",
       "965          Comment     Neutral  7/8/19 18:18       TwitchyMac   \n",
       "966      Maintenance  Frustrated  7/8/19 18:18   MiguelCongress   \n",
       "967         Question  Frustrated  7/8/19 18:16       TwitchyMac   \n",
       "968         Question  Frustrated  7/8/19 18:16     homelessnyer   \n",
       "\n",
       "     followers_count                        Location State  \n",
       "0               27.0                             NaN   NaN  \n",
       "1              699.0                    Armidale NSW   NaN  \n",
       "2              418.0                            Ohio    OH  \n",
       "3              135.0                 California, USA    CA  \n",
       "4               12.0              Montopolis, Austin   NaN  \n",
       "5             3304.0                       Australia   NaN  \n",
       "6             3304.0                       Australia   NaN  \n",
       "7              127.0                             NaN   NaN  \n",
       "8                7.0                 New Jersey, USA    NJ  \n",
       "9               23.0                             NaN   NaN  \n",
       "10              28.0                     New Zealand   NaN  \n",
       "11             433.0                    Carrboro, NC    NC  \n",
       "12           26118.0                             NaN   NaN  \n",
       "13             294.0                    Post-Reality   NaN  \n",
       "14          446534.0                   New York City    NY  \n",
       "15             460.0                       Wisconsin    WI  \n",
       "16            2191.0                 Washington, USA    WA  \n",
       "17            2334.0                          Canada   NaN  \n",
       "18            1385.0                             NaN   NaN  \n",
       "19            2648.0      High Park-Swansea, Toronto   NaN  \n",
       "20            4271.0                       Largo, FL    FL  \n",
       "21            2124.0                       Australia   NaN  \n",
       "22            5374.0             Bay Ridge, Brooklyn   NaN  \n",
       "23               8.0                             NaN   NaN  \n",
       "24               2.0              Rocketts Landing\\n   NaN  \n",
       "25           27724.0  Wherever permits can be pulled   NaN  \n",
       "26           31879.0                   San Francisco   NaN  \n",
       "27             603.0                    el salvador    NaN  \n",
       "28             603.0                    el salvador    NaN  \n",
       "29             603.0                    el salvador    NaN  \n",
       "..               ...                             ...   ...  \n",
       "939           7584.0                    New York, NY    NY  \n",
       "940             54.0                   Manhattan, NY    NY  \n",
       "941          10618.0                    New York, NY    NY  \n",
       "942            212.0                  Charleston, SC    SC  \n",
       "943              4.0                             NaN   NaN  \n",
       "944             79.0                             NaN   NaN  \n",
       "945             15.0                      Newark, NJ    NJ  \n",
       "946           3626.0                   United States   NaN  \n",
       "947            258.0                             NaN   NaN  \n",
       "948           1291.0                    Brooklyn, NY    NY  \n",
       "949            317.0                     Oregon, USA    OR  \n",
       "950             21.0                             NaN   NaN  \n",
       "951           1578.0                    San Clemente   NaN  \n",
       "952           1055.0                             NYC    NY  \n",
       "953              5.0                             NaN   NaN  \n",
       "954              5.0                             NaN   NaN  \n",
       "955           1100.0                   New York, USA    NY  \n",
       "956           2816.0                        Internet   NaN  \n",
       "957           2816.0                        Internet   NaN  \n",
       "958            244.0                      NY, Vrsac     NY  \n",
       "959              9.0                             NaN   NaN  \n",
       "960           2537.0                    New York, NY    NY  \n",
       "961            125.0                             NaN   NaN  \n",
       "962             65.0                              IL    IL  \n",
       "963             20.0                             NaN   NaN  \n",
       "964            366.0                    New York, NY    NY  \n",
       "965             19.0                             NaN   NaN  \n",
       "966             48.0                       Bronx, NY    NY  \n",
       "967             19.0                             NaN   NaN  \n",
       "968            366.0                    New York, NY    NY  \n",
       "\n",
       "[969 rows x 9 columns]"
      ]
     },
     "execution_count": 1,
     "metadata": {},
     "output_type": "execute_result"
    }
   ],
   "source": [
    "import plotly.graph_objects as go\n",
    "\n",
    "import pandas as pd\n",
    "df = pd.read_csv('./../AllTweets_WithStates.csv')\n",
    "df"
   ]
  },
  {
   "cell_type": "code",
   "execution_count": 7,
   "metadata": {},
   "outputs": [
    {
     "name": "stdout",
     "output_type": "stream",
     "text": [
      "Comment            431\n",
      "News               195\n",
      "Policy Decision    111\n",
      "Question            86\n",
      "Irrelevant          66\n",
      "Maintenance         41\n",
      "Experience          39\n",
      "Name: Primary, dtype: int64\n"
     ]
    },
    {
     "data": {
      "application/vnd.plotly.v1+json": {
       "config": {
        "plotlyServerURL": "https://plot.ly"
       },
       "data": [
        {
         "hole": 0.4,
         "hoverinfo": "label+percent+value",
         "labels": [
          "Comment",
          "News",
          "Policy Decision",
          "Question",
          "Irrelevant",
          "Maintenance",
          "Experience"
         ],
         "type": "pie",
         "values": [
          431,
          195,
          111,
          86,
          66,
          41,
          39
         ]
        }
       ],
       "layout": {
        "template": {
         "data": {
          "bar": [
           {
            "error_x": {
             "color": "#2a3f5f"
            },
            "error_y": {
             "color": "#2a3f5f"
            },
            "marker": {
             "line": {
              "color": "#E5ECF6",
              "width": 0.5
             }
            },
            "type": "bar"
           }
          ],
          "barpolar": [
           {
            "marker": {
             "line": {
              "color": "#E5ECF6",
              "width": 0.5
             }
            },
            "type": "barpolar"
           }
          ],
          "carpet": [
           {
            "aaxis": {
             "endlinecolor": "#2a3f5f",
             "gridcolor": "white",
             "linecolor": "white",
             "minorgridcolor": "white",
             "startlinecolor": "#2a3f5f"
            },
            "baxis": {
             "endlinecolor": "#2a3f5f",
             "gridcolor": "white",
             "linecolor": "white",
             "minorgridcolor": "white",
             "startlinecolor": "#2a3f5f"
            },
            "type": "carpet"
           }
          ],
          "choropleth": [
           {
            "colorbar": {
             "outlinewidth": 0,
             "ticks": ""
            },
            "type": "choropleth"
           }
          ],
          "contour": [
           {
            "colorbar": {
             "outlinewidth": 0,
             "ticks": ""
            },
            "colorscale": [
             [
              0,
              "#0d0887"
             ],
             [
              0.1111111111111111,
              "#46039f"
             ],
             [
              0.2222222222222222,
              "#7201a8"
             ],
             [
              0.3333333333333333,
              "#9c179e"
             ],
             [
              0.4444444444444444,
              "#bd3786"
             ],
             [
              0.5555555555555556,
              "#d8576b"
             ],
             [
              0.6666666666666666,
              "#ed7953"
             ],
             [
              0.7777777777777778,
              "#fb9f3a"
             ],
             [
              0.8888888888888888,
              "#fdca26"
             ],
             [
              1,
              "#f0f921"
             ]
            ],
            "type": "contour"
           }
          ],
          "contourcarpet": [
           {
            "colorbar": {
             "outlinewidth": 0,
             "ticks": ""
            },
            "type": "contourcarpet"
           }
          ],
          "heatmap": [
           {
            "colorbar": {
             "outlinewidth": 0,
             "ticks": ""
            },
            "colorscale": [
             [
              0,
              "#0d0887"
             ],
             [
              0.1111111111111111,
              "#46039f"
             ],
             [
              0.2222222222222222,
              "#7201a8"
             ],
             [
              0.3333333333333333,
              "#9c179e"
             ],
             [
              0.4444444444444444,
              "#bd3786"
             ],
             [
              0.5555555555555556,
              "#d8576b"
             ],
             [
              0.6666666666666666,
              "#ed7953"
             ],
             [
              0.7777777777777778,
              "#fb9f3a"
             ],
             [
              0.8888888888888888,
              "#fdca26"
             ],
             [
              1,
              "#f0f921"
             ]
            ],
            "type": "heatmap"
           }
          ],
          "heatmapgl": [
           {
            "colorbar": {
             "outlinewidth": 0,
             "ticks": ""
            },
            "colorscale": [
             [
              0,
              "#0d0887"
             ],
             [
              0.1111111111111111,
              "#46039f"
             ],
             [
              0.2222222222222222,
              "#7201a8"
             ],
             [
              0.3333333333333333,
              "#9c179e"
             ],
             [
              0.4444444444444444,
              "#bd3786"
             ],
             [
              0.5555555555555556,
              "#d8576b"
             ],
             [
              0.6666666666666666,
              "#ed7953"
             ],
             [
              0.7777777777777778,
              "#fb9f3a"
             ],
             [
              0.8888888888888888,
              "#fdca26"
             ],
             [
              1,
              "#f0f921"
             ]
            ],
            "type": "heatmapgl"
           }
          ],
          "histogram": [
           {
            "marker": {
             "colorbar": {
              "outlinewidth": 0,
              "ticks": ""
             }
            },
            "type": "histogram"
           }
          ],
          "histogram2d": [
           {
            "colorbar": {
             "outlinewidth": 0,
             "ticks": ""
            },
            "colorscale": [
             [
              0,
              "#0d0887"
             ],
             [
              0.1111111111111111,
              "#46039f"
             ],
             [
              0.2222222222222222,
              "#7201a8"
             ],
             [
              0.3333333333333333,
              "#9c179e"
             ],
             [
              0.4444444444444444,
              "#bd3786"
             ],
             [
              0.5555555555555556,
              "#d8576b"
             ],
             [
              0.6666666666666666,
              "#ed7953"
             ],
             [
              0.7777777777777778,
              "#fb9f3a"
             ],
             [
              0.8888888888888888,
              "#fdca26"
             ],
             [
              1,
              "#f0f921"
             ]
            ],
            "type": "histogram2d"
           }
          ],
          "histogram2dcontour": [
           {
            "colorbar": {
             "outlinewidth": 0,
             "ticks": ""
            },
            "colorscale": [
             [
              0,
              "#0d0887"
             ],
             [
              0.1111111111111111,
              "#46039f"
             ],
             [
              0.2222222222222222,
              "#7201a8"
             ],
             [
              0.3333333333333333,
              "#9c179e"
             ],
             [
              0.4444444444444444,
              "#bd3786"
             ],
             [
              0.5555555555555556,
              "#d8576b"
             ],
             [
              0.6666666666666666,
              "#ed7953"
             ],
             [
              0.7777777777777778,
              "#fb9f3a"
             ],
             [
              0.8888888888888888,
              "#fdca26"
             ],
             [
              1,
              "#f0f921"
             ]
            ],
            "type": "histogram2dcontour"
           }
          ],
          "mesh3d": [
           {
            "colorbar": {
             "outlinewidth": 0,
             "ticks": ""
            },
            "type": "mesh3d"
           }
          ],
          "parcoords": [
           {
            "line": {
             "colorbar": {
              "outlinewidth": 0,
              "ticks": ""
             }
            },
            "type": "parcoords"
           }
          ],
          "scatter": [
           {
            "marker": {
             "colorbar": {
              "outlinewidth": 0,
              "ticks": ""
             }
            },
            "type": "scatter"
           }
          ],
          "scatter3d": [
           {
            "line": {
             "colorbar": {
              "outlinewidth": 0,
              "ticks": ""
             }
            },
            "marker": {
             "colorbar": {
              "outlinewidth": 0,
              "ticks": ""
             }
            },
            "type": "scatter3d"
           }
          ],
          "scattercarpet": [
           {
            "marker": {
             "colorbar": {
              "outlinewidth": 0,
              "ticks": ""
             }
            },
            "type": "scattercarpet"
           }
          ],
          "scattergeo": [
           {
            "marker": {
             "colorbar": {
              "outlinewidth": 0,
              "ticks": ""
             }
            },
            "type": "scattergeo"
           }
          ],
          "scattergl": [
           {
            "marker": {
             "colorbar": {
              "outlinewidth": 0,
              "ticks": ""
             }
            },
            "type": "scattergl"
           }
          ],
          "scattermapbox": [
           {
            "marker": {
             "colorbar": {
              "outlinewidth": 0,
              "ticks": ""
             }
            },
            "type": "scattermapbox"
           }
          ],
          "scatterpolar": [
           {
            "marker": {
             "colorbar": {
              "outlinewidth": 0,
              "ticks": ""
             }
            },
            "type": "scatterpolar"
           }
          ],
          "scatterpolargl": [
           {
            "marker": {
             "colorbar": {
              "outlinewidth": 0,
              "ticks": ""
             }
            },
            "type": "scatterpolargl"
           }
          ],
          "scatterternary": [
           {
            "marker": {
             "colorbar": {
              "outlinewidth": 0,
              "ticks": ""
             }
            },
            "type": "scatterternary"
           }
          ],
          "surface": [
           {
            "colorbar": {
             "outlinewidth": 0,
             "ticks": ""
            },
            "colorscale": [
             [
              0,
              "#0d0887"
             ],
             [
              0.1111111111111111,
              "#46039f"
             ],
             [
              0.2222222222222222,
              "#7201a8"
             ],
             [
              0.3333333333333333,
              "#9c179e"
             ],
             [
              0.4444444444444444,
              "#bd3786"
             ],
             [
              0.5555555555555556,
              "#d8576b"
             ],
             [
              0.6666666666666666,
              "#ed7953"
             ],
             [
              0.7777777777777778,
              "#fb9f3a"
             ],
             [
              0.8888888888888888,
              "#fdca26"
             ],
             [
              1,
              "#f0f921"
             ]
            ],
            "type": "surface"
           }
          ],
          "table": [
           {
            "cells": {
             "fill": {
              "color": "#EBF0F8"
             },
             "line": {
              "color": "white"
             }
            },
            "header": {
             "fill": {
              "color": "#C8D4E3"
             },
             "line": {
              "color": "white"
             }
            },
            "type": "table"
           }
          ]
         },
         "layout": {
          "annotationdefaults": {
           "arrowcolor": "#2a3f5f",
           "arrowhead": 0,
           "arrowwidth": 1
          },
          "colorscale": {
           "diverging": [
            [
             0,
             "#8e0152"
            ],
            [
             0.1,
             "#c51b7d"
            ],
            [
             0.2,
             "#de77ae"
            ],
            [
             0.3,
             "#f1b6da"
            ],
            [
             0.4,
             "#fde0ef"
            ],
            [
             0.5,
             "#f7f7f7"
            ],
            [
             0.6,
             "#e6f5d0"
            ],
            [
             0.7,
             "#b8e186"
            ],
            [
             0.8,
             "#7fbc41"
            ],
            [
             0.9,
             "#4d9221"
            ],
            [
             1,
             "#276419"
            ]
           ],
           "sequential": [
            [
             0,
             "#0d0887"
            ],
            [
             0.1111111111111111,
             "#46039f"
            ],
            [
             0.2222222222222222,
             "#7201a8"
            ],
            [
             0.3333333333333333,
             "#9c179e"
            ],
            [
             0.4444444444444444,
             "#bd3786"
            ],
            [
             0.5555555555555556,
             "#d8576b"
            ],
            [
             0.6666666666666666,
             "#ed7953"
            ],
            [
             0.7777777777777778,
             "#fb9f3a"
            ],
            [
             0.8888888888888888,
             "#fdca26"
            ],
            [
             1,
             "#f0f921"
            ]
           ],
           "sequentialminus": [
            [
             0,
             "#0d0887"
            ],
            [
             0.1111111111111111,
             "#46039f"
            ],
            [
             0.2222222222222222,
             "#7201a8"
            ],
            [
             0.3333333333333333,
             "#9c179e"
            ],
            [
             0.4444444444444444,
             "#bd3786"
            ],
            [
             0.5555555555555556,
             "#d8576b"
            ],
            [
             0.6666666666666666,
             "#ed7953"
            ],
            [
             0.7777777777777778,
             "#fb9f3a"
            ],
            [
             0.8888888888888888,
             "#fdca26"
            ],
            [
             1,
             "#f0f921"
            ]
           ]
          },
          "colorway": [
           "#636efa",
           "#EF553B",
           "#00cc96",
           "#ab63fa",
           "#FFA15A",
           "#19d3f3",
           "#FF6692",
           "#B6E880",
           "#FF97FF",
           "#FECB52"
          ],
          "font": {
           "color": "#2a3f5f"
          },
          "geo": {
           "bgcolor": "white",
           "lakecolor": "white",
           "landcolor": "#E5ECF6",
           "showlakes": true,
           "showland": true,
           "subunitcolor": "white"
          },
          "hoverlabel": {
           "align": "left"
          },
          "hovermode": "closest",
          "mapbox": {
           "style": "light"
          },
          "paper_bgcolor": "white",
          "plot_bgcolor": "#E5ECF6",
          "polar": {
           "angularaxis": {
            "gridcolor": "white",
            "linecolor": "white",
            "ticks": ""
           },
           "bgcolor": "#E5ECF6",
           "radialaxis": {
            "gridcolor": "white",
            "linecolor": "white",
            "ticks": ""
           }
          },
          "scene": {
           "xaxis": {
            "backgroundcolor": "#E5ECF6",
            "gridcolor": "white",
            "gridwidth": 2,
            "linecolor": "white",
            "showbackground": true,
            "ticks": "",
            "zerolinecolor": "white"
           },
           "yaxis": {
            "backgroundcolor": "#E5ECF6",
            "gridcolor": "white",
            "gridwidth": 2,
            "linecolor": "white",
            "showbackground": true,
            "ticks": "",
            "zerolinecolor": "white"
           },
           "zaxis": {
            "backgroundcolor": "#E5ECF6",
            "gridcolor": "white",
            "gridwidth": 2,
            "linecolor": "white",
            "showbackground": true,
            "ticks": "",
            "zerolinecolor": "white"
           }
          },
          "shapedefaults": {
           "line": {
            "color": "#2a3f5f"
           }
          },
          "ternary": {
           "aaxis": {
            "gridcolor": "white",
            "linecolor": "white",
            "ticks": ""
           },
           "baxis": {
            "gridcolor": "white",
            "linecolor": "white",
            "ticks": ""
           },
           "bgcolor": "#E5ECF6",
           "caxis": {
            "gridcolor": "white",
            "linecolor": "white",
            "ticks": ""
           }
          },
          "title": {
           "x": 0.05
          },
          "xaxis": {
           "automargin": true,
           "gridcolor": "white",
           "linecolor": "white",
           "ticks": "",
           "zerolinecolor": "white",
           "zerolinewidth": 2
          },
          "yaxis": {
           "automargin": true,
           "gridcolor": "white",
           "linecolor": "white",
           "ticks": "",
           "zerolinecolor": "white",
           "zerolinewidth": 2
          }
         }
        },
        "title": {
         "text": "Primary Category Breakdown (Hover for count)"
        }
       }
      },
      "text/html": [
       "<div>\n",
       "        \n",
       "        \n",
       "            <div id=\"cfabc5ad-9311-4cc8-aff1-97dd09b93231\" class=\"plotly-graph-div\" style=\"height:525px; width:100%;\"></div>\n",
       "            <script type=\"text/javascript\">\n",
       "                require([\"plotly\"], function(Plotly) {\n",
       "                    window.PLOTLYENV=window.PLOTLYENV || {};\n",
       "                    \n",
       "                if (document.getElementById(\"cfabc5ad-9311-4cc8-aff1-97dd09b93231\")) {\n",
       "                    Plotly.newPlot(\n",
       "                        'cfabc5ad-9311-4cc8-aff1-97dd09b93231',\n",
       "                        [{\"hole\": 0.4, \"hoverinfo\": \"label+percent+value\", \"labels\": [\"Comment\", \"News\", \"Policy Decision\", \"Question\", \"Irrelevant\", \"Maintenance\", \"Experience\"], \"type\": \"pie\", \"values\": [431, 195, 111, 86, 66, 41, 39]}],\n",
       "                        {\"template\": {\"data\": {\"bar\": [{\"error_x\": {\"color\": \"#2a3f5f\"}, \"error_y\": {\"color\": \"#2a3f5f\"}, \"marker\": {\"line\": {\"color\": \"#E5ECF6\", \"width\": 0.5}}, \"type\": \"bar\"}], \"barpolar\": [{\"marker\": {\"line\": {\"color\": \"#E5ECF6\", \"width\": 0.5}}, \"type\": \"barpolar\"}], \"carpet\": [{\"aaxis\": {\"endlinecolor\": \"#2a3f5f\", \"gridcolor\": \"white\", \"linecolor\": \"white\", \"minorgridcolor\": \"white\", \"startlinecolor\": \"#2a3f5f\"}, \"baxis\": {\"endlinecolor\": \"#2a3f5f\", \"gridcolor\": \"white\", \"linecolor\": \"white\", \"minorgridcolor\": \"white\", \"startlinecolor\": \"#2a3f5f\"}, \"type\": \"carpet\"}], \"choropleth\": [{\"colorbar\": {\"outlinewidth\": 0, \"ticks\": \"\"}, \"type\": \"choropleth\"}], \"contour\": [{\"colorbar\": {\"outlinewidth\": 0, \"ticks\": \"\"}, \"colorscale\": [[0.0, \"#0d0887\"], [0.1111111111111111, \"#46039f\"], [0.2222222222222222, \"#7201a8\"], [0.3333333333333333, \"#9c179e\"], [0.4444444444444444, \"#bd3786\"], [0.5555555555555556, \"#d8576b\"], [0.6666666666666666, \"#ed7953\"], [0.7777777777777778, \"#fb9f3a\"], [0.8888888888888888, \"#fdca26\"], [1.0, \"#f0f921\"]], \"type\": \"contour\"}], \"contourcarpet\": [{\"colorbar\": {\"outlinewidth\": 0, \"ticks\": \"\"}, \"type\": \"contourcarpet\"}], \"heatmap\": [{\"colorbar\": {\"outlinewidth\": 0, \"ticks\": \"\"}, \"colorscale\": [[0.0, \"#0d0887\"], [0.1111111111111111, \"#46039f\"], [0.2222222222222222, \"#7201a8\"], [0.3333333333333333, \"#9c179e\"], [0.4444444444444444, \"#bd3786\"], [0.5555555555555556, \"#d8576b\"], [0.6666666666666666, \"#ed7953\"], [0.7777777777777778, \"#fb9f3a\"], [0.8888888888888888, \"#fdca26\"], [1.0, \"#f0f921\"]], \"type\": \"heatmap\"}], \"heatmapgl\": [{\"colorbar\": {\"outlinewidth\": 0, \"ticks\": \"\"}, \"colorscale\": [[0.0, \"#0d0887\"], [0.1111111111111111, \"#46039f\"], [0.2222222222222222, \"#7201a8\"], [0.3333333333333333, \"#9c179e\"], [0.4444444444444444, \"#bd3786\"], [0.5555555555555556, \"#d8576b\"], [0.6666666666666666, \"#ed7953\"], [0.7777777777777778, \"#fb9f3a\"], [0.8888888888888888, \"#fdca26\"], [1.0, \"#f0f921\"]], \"type\": \"heatmapgl\"}], \"histogram\": [{\"marker\": {\"colorbar\": {\"outlinewidth\": 0, \"ticks\": \"\"}}, \"type\": \"histogram\"}], \"histogram2d\": [{\"colorbar\": {\"outlinewidth\": 0, \"ticks\": \"\"}, \"colorscale\": [[0.0, \"#0d0887\"], [0.1111111111111111, \"#46039f\"], [0.2222222222222222, \"#7201a8\"], [0.3333333333333333, \"#9c179e\"], [0.4444444444444444, \"#bd3786\"], [0.5555555555555556, \"#d8576b\"], [0.6666666666666666, \"#ed7953\"], [0.7777777777777778, \"#fb9f3a\"], [0.8888888888888888, \"#fdca26\"], [1.0, \"#f0f921\"]], \"type\": \"histogram2d\"}], \"histogram2dcontour\": [{\"colorbar\": {\"outlinewidth\": 0, \"ticks\": \"\"}, \"colorscale\": [[0.0, \"#0d0887\"], [0.1111111111111111, \"#46039f\"], [0.2222222222222222, \"#7201a8\"], [0.3333333333333333, \"#9c179e\"], [0.4444444444444444, \"#bd3786\"], [0.5555555555555556, \"#d8576b\"], [0.6666666666666666, \"#ed7953\"], [0.7777777777777778, \"#fb9f3a\"], [0.8888888888888888, \"#fdca26\"], [1.0, \"#f0f921\"]], \"type\": \"histogram2dcontour\"}], \"mesh3d\": [{\"colorbar\": {\"outlinewidth\": 0, \"ticks\": \"\"}, \"type\": \"mesh3d\"}], \"parcoords\": [{\"line\": {\"colorbar\": {\"outlinewidth\": 0, \"ticks\": \"\"}}, \"type\": \"parcoords\"}], \"scatter\": [{\"marker\": {\"colorbar\": {\"outlinewidth\": 0, \"ticks\": \"\"}}, \"type\": \"scatter\"}], \"scatter3d\": [{\"line\": {\"colorbar\": {\"outlinewidth\": 0, \"ticks\": \"\"}}, \"marker\": {\"colorbar\": {\"outlinewidth\": 0, \"ticks\": \"\"}}, \"type\": \"scatter3d\"}], \"scattercarpet\": [{\"marker\": {\"colorbar\": {\"outlinewidth\": 0, \"ticks\": \"\"}}, \"type\": \"scattercarpet\"}], \"scattergeo\": [{\"marker\": {\"colorbar\": {\"outlinewidth\": 0, \"ticks\": \"\"}}, \"type\": \"scattergeo\"}], \"scattergl\": [{\"marker\": {\"colorbar\": {\"outlinewidth\": 0, \"ticks\": \"\"}}, \"type\": \"scattergl\"}], \"scattermapbox\": [{\"marker\": {\"colorbar\": {\"outlinewidth\": 0, \"ticks\": \"\"}}, \"type\": \"scattermapbox\"}], \"scatterpolar\": [{\"marker\": {\"colorbar\": {\"outlinewidth\": 0, \"ticks\": \"\"}}, \"type\": \"scatterpolar\"}], \"scatterpolargl\": [{\"marker\": {\"colorbar\": {\"outlinewidth\": 0, \"ticks\": \"\"}}, \"type\": \"scatterpolargl\"}], \"scatterternary\": [{\"marker\": {\"colorbar\": {\"outlinewidth\": 0, \"ticks\": \"\"}}, \"type\": \"scatterternary\"}], \"surface\": [{\"colorbar\": {\"outlinewidth\": 0, \"ticks\": \"\"}, \"colorscale\": [[0.0, \"#0d0887\"], [0.1111111111111111, \"#46039f\"], [0.2222222222222222, \"#7201a8\"], [0.3333333333333333, \"#9c179e\"], [0.4444444444444444, \"#bd3786\"], [0.5555555555555556, \"#d8576b\"], [0.6666666666666666, \"#ed7953\"], [0.7777777777777778, \"#fb9f3a\"], [0.8888888888888888, \"#fdca26\"], [1.0, \"#f0f921\"]], \"type\": \"surface\"}], \"table\": [{\"cells\": {\"fill\": {\"color\": \"#EBF0F8\"}, \"line\": {\"color\": \"white\"}}, \"header\": {\"fill\": {\"color\": \"#C8D4E3\"}, \"line\": {\"color\": \"white\"}}, \"type\": \"table\"}]}, \"layout\": {\"annotationdefaults\": {\"arrowcolor\": \"#2a3f5f\", \"arrowhead\": 0, \"arrowwidth\": 1}, \"colorscale\": {\"diverging\": [[0, \"#8e0152\"], [0.1, \"#c51b7d\"], [0.2, \"#de77ae\"], [0.3, \"#f1b6da\"], [0.4, \"#fde0ef\"], [0.5, \"#f7f7f7\"], [0.6, \"#e6f5d0\"], [0.7, \"#b8e186\"], [0.8, \"#7fbc41\"], [0.9, \"#4d9221\"], [1, \"#276419\"]], \"sequential\": [[0.0, \"#0d0887\"], [0.1111111111111111, \"#46039f\"], [0.2222222222222222, \"#7201a8\"], [0.3333333333333333, \"#9c179e\"], [0.4444444444444444, \"#bd3786\"], [0.5555555555555556, \"#d8576b\"], [0.6666666666666666, \"#ed7953\"], [0.7777777777777778, \"#fb9f3a\"], [0.8888888888888888, \"#fdca26\"], [1.0, \"#f0f921\"]], \"sequentialminus\": [[0.0, \"#0d0887\"], [0.1111111111111111, \"#46039f\"], [0.2222222222222222, \"#7201a8\"], [0.3333333333333333, \"#9c179e\"], [0.4444444444444444, \"#bd3786\"], [0.5555555555555556, \"#d8576b\"], [0.6666666666666666, \"#ed7953\"], [0.7777777777777778, \"#fb9f3a\"], [0.8888888888888888, \"#fdca26\"], [1.0, \"#f0f921\"]]}, \"colorway\": [\"#636efa\", \"#EF553B\", \"#00cc96\", \"#ab63fa\", \"#FFA15A\", \"#19d3f3\", \"#FF6692\", \"#B6E880\", \"#FF97FF\", \"#FECB52\"], \"font\": {\"color\": \"#2a3f5f\"}, \"geo\": {\"bgcolor\": \"white\", \"lakecolor\": \"white\", \"landcolor\": \"#E5ECF6\", \"showlakes\": true, \"showland\": true, \"subunitcolor\": \"white\"}, \"hoverlabel\": {\"align\": \"left\"}, \"hovermode\": \"closest\", \"mapbox\": {\"style\": \"light\"}, \"paper_bgcolor\": \"white\", \"plot_bgcolor\": \"#E5ECF6\", \"polar\": {\"angularaxis\": {\"gridcolor\": \"white\", \"linecolor\": \"white\", \"ticks\": \"\"}, \"bgcolor\": \"#E5ECF6\", \"radialaxis\": {\"gridcolor\": \"white\", \"linecolor\": \"white\", \"ticks\": \"\"}}, \"scene\": {\"xaxis\": {\"backgroundcolor\": \"#E5ECF6\", \"gridcolor\": \"white\", \"gridwidth\": 2, \"linecolor\": \"white\", \"showbackground\": true, \"ticks\": \"\", \"zerolinecolor\": \"white\"}, \"yaxis\": {\"backgroundcolor\": \"#E5ECF6\", \"gridcolor\": \"white\", \"gridwidth\": 2, \"linecolor\": \"white\", \"showbackground\": true, \"ticks\": \"\", \"zerolinecolor\": \"white\"}, \"zaxis\": {\"backgroundcolor\": \"#E5ECF6\", \"gridcolor\": \"white\", \"gridwidth\": 2, \"linecolor\": \"white\", \"showbackground\": true, \"ticks\": \"\", \"zerolinecolor\": \"white\"}}, \"shapedefaults\": {\"line\": {\"color\": \"#2a3f5f\"}}, \"ternary\": {\"aaxis\": {\"gridcolor\": \"white\", \"linecolor\": \"white\", \"ticks\": \"\"}, \"baxis\": {\"gridcolor\": \"white\", \"linecolor\": \"white\", \"ticks\": \"\"}, \"bgcolor\": \"#E5ECF6\", \"caxis\": {\"gridcolor\": \"white\", \"linecolor\": \"white\", \"ticks\": \"\"}}, \"title\": {\"x\": 0.05}, \"xaxis\": {\"automargin\": true, \"gridcolor\": \"white\", \"linecolor\": \"white\", \"ticks\": \"\", \"zerolinecolor\": \"white\", \"zerolinewidth\": 2}, \"yaxis\": {\"automargin\": true, \"gridcolor\": \"white\", \"linecolor\": \"white\", \"ticks\": \"\", \"zerolinecolor\": \"white\", \"zerolinewidth\": 2}}}, \"title\": {\"text\": \"Primary Category Breakdown (Hover for count)\"}},\n",
       "                        {\"responsive\": true}\n",
       "                    ).then(function(){\n",
       "                            \n",
       "var gd = document.getElementById('cfabc5ad-9311-4cc8-aff1-97dd09b93231');\n",
       "var x = new MutationObserver(function (mutations, observer) {{\n",
       "        var display = window.getComputedStyle(gd).display;\n",
       "        if (!display || display === 'none') {{\n",
       "            console.log([gd, 'removed!']);\n",
       "            Plotly.purge(gd);\n",
       "            observer.disconnect();\n",
       "        }}\n",
       "}});\n",
       "\n",
       "// Listen for the removal of the full notebook cells\n",
       "var notebookContainer = gd.closest('#notebook-container');\n",
       "if (notebookContainer) {{\n",
       "    x.observe(notebookContainer, {childList: true});\n",
       "}}\n",
       "\n",
       "// Listen for the clearing of the current output cell\n",
       "var outputEl = gd.closest('.output');\n",
       "if (outputEl) {{\n",
       "    x.observe(outputEl, {childList: true});\n",
       "}}\n",
       "\n",
       "                        })\n",
       "                };\n",
       "                });\n",
       "            </script>\n",
       "        </div>"
      ]
     },
     "metadata": {},
     "output_type": "display_data"
    }
   ],
   "source": [
    "\n",
    "prim_cnt = df['Primary'].value_counts()\n",
    "\n",
    "print(prim_cnt)\n",
    "\n",
    "fig = go.Figure(data=go.Pie(\n",
    "    values = prim_cnt.values,\n",
    "    labels = prim_cnt.index\n",
    "))\n",
    "\n",
    "fig.update_layout(\n",
    "    title_text='Primary Category Breakdown (Hover for count)',\n",
    ")\n",
    "# Use `hole` to create a donut-like pie chart\n",
    "fig.update_traces(hole=.4, hoverinfo=\"label+percent+value\")\n",
    "\n",
    "fig.show()\n"
   ]
  },
  {
   "cell_type": "code",
   "execution_count": 2,
   "metadata": {},
   "outputs": [
    {
     "data": {
      "text/plain": [
       "<bound method NDFrame.head of    code           state category total exports   beef    pork poultry   dairy  \\\n",
       "0    AL         Alabama    state       1390.63   34.4    10.6   481.0    4.06   \n",
       "1    AK          Alaska    state         13.31    0.2     0.1     0.0    0.19   \n",
       "2    AZ         Arizona    state       1463.17   71.3    17.9     0.0  105.48   \n",
       "3    AR        Arkansas    state       3586.02   53.2    29.4   562.9    3.53   \n",
       "4    CA      California    state      16472.88  228.7    11.1   225.4  929.95   \n",
       "5    CO        Colorado    state       1851.33  261.4    66.0    14.0   71.94   \n",
       "6    CT     Connecticut    state        259.62    1.1     0.1     6.9    9.49   \n",
       "7    DE        Delaware    state        282.19    0.4     0.6   114.7     2.3   \n",
       "8    FL         Florida    state       3764.09   42.6     0.9    56.9   66.31   \n",
       "9    GA         Georgia    state       2860.84   31.0    18.9   630.4   38.38   \n",
       "10   HI          Hawaii    state        401.84    4.0     0.7     1.3    1.16   \n",
       "11   ID           Idaho    state       2078.89  119.8     0.0     2.4   294.6   \n",
       "12   IL        Illinois    state       8709.48   53.7   394.0    14.0   45.82   \n",
       "13   IN         Indiana    state       5050.23   21.9   341.9   165.6    89.7   \n",
       "14   IA            Iowa    state      11273.76  289.8  1895.6   155.6   107.0   \n",
       "15   KS          Kansas    state       4589.01  659.3   179.4     6.4   65.45   \n",
       "16   KY        Kentucky    state       1889.15   54.8    34.2   151.3   28.27   \n",
       "17   LA       Louisiana    state       1914.23   19.8     0.8    77.2    6.02   \n",
       "18   ME           Maine    state        278.37    1.4     0.5    10.4   16.18   \n",
       "19   MD        Maryland    state        692.75    5.6     3.1   127.0   24.81   \n",
       "20   MA   Massachusetts    state        248.65    0.6     0.5     0.6    5.81   \n",
       "21   MI        Michigan    state       3164.16   37.7   118.1    32.6  214.82   \n",
       "22   MN       Minnesota    state       7192.33  112.3   740.4   189.2  218.05   \n",
       "23   MS     Mississippi    state        2170.8   12.8    30.4   370.8    5.45   \n",
       "24   MO        Missouri    state       3933.42  137.2   277.3   196.1   34.26   \n",
       "25   MT         Montana    state        1718.0  105.0    16.7     1.7    6.82   \n",
       "26   NE        Nebraska    state       7114.13  762.2   262.5    31.4   30.07   \n",
       "27   NV          Nevada    state        139.89   21.8     0.2     0.0   16.57   \n",
       "28   NH   New Hampshire    state         73.06    0.6     0.2     0.8    7.46   \n",
       "29   NJ      New Jersey    state         500.4    0.8     0.4     4.6    3.37   \n",
       "30   NM      New Mexico    state        751.58  117.2     0.1     0.3  191.01   \n",
       "31   NY        New York    state        1488.9   22.2     5.8    17.7   331.8   \n",
       "32   NC  North Carolina    state       3806.05   24.8   702.8   598.4    24.9   \n",
       "33   ND    North Dakota    state       3761.96   78.5    16.1     0.5    8.14   \n",
       "34   OH            Ohio    state       3979.79   36.2   199.1   129.9  134.57   \n",
       "35   OK        Oklahoma    state       1646.41  337.6   265.3   131.1   24.35   \n",
       "36   OR          Oregon    state       1794.57   58.8     1.4    14.2   63.66   \n",
       "37   PA    Pennsylvania    state       1969.87   50.9    91.3   169.8  280.87   \n",
       "38   RI    Rhode Island    state         31.59    0.1     0.1     0.2    0.52   \n",
       "39   SC  South Carolina    state        929.93   15.2    10.9   186.5    7.62   \n",
       "40   SD    South Dakota    state       3770.19  193.5   160.2    29.3   46.77   \n",
       "41   TN       Tennessee    state       1535.13   51.1    17.6    82.4   21.18   \n",
       "42   TX           Texas    state       6648.22  961.0    42.7   339.2  240.55   \n",
       "43   UT            Utah    state        453.39   27.9    59.0    23.1    48.6   \n",
       "44   VT         Vermont    state        180.14    6.2     0.2     0.9   65.98   \n",
       "45   VA        Virginia    state       1146.48   39.5    16.9   164.7   47.85   \n",
       "46   WA      Washington    state       3894.81   59.2     0.0    35.6  154.18   \n",
       "47   WV   West Virginia    state        138.89   12.0     0.3    45.4     3.9   \n",
       "48   WI       Wisconsin    state       3090.23  107.3    38.6    34.5   633.6   \n",
       "49   WY         Wyoming    state        349.69   75.1    33.2     0.1    2.89   \n",
       "\n",
       "   fruits fresh fruits proc total fruits veggies fresh veggies proc  \\\n",
       "0           8.0        17.1        25.11           5.5          8.9   \n",
       "1           0.0         0.0          0.0           0.6          1.0   \n",
       "2          19.3        41.0        60.27         147.5        239.4   \n",
       "3           2.2         4.7         6.88           4.4          7.1   \n",
       "4        2791.8      5944.6       8736.4         803.2       1303.5   \n",
       "5           5.7        12.2        17.99          45.1         73.2   \n",
       "6           4.2         8.9         13.1           4.3          6.9   \n",
       "7           0.5         1.0         1.53           7.6         12.4   \n",
       "8         438.2       933.1      1371.36         171.9        279.0   \n",
       "9          74.6       158.9       233.51          59.0         95.8   \n",
       "10         17.7        37.8        55.51           9.5         15.4   \n",
       "11          6.9        14.7        21.64         121.7        197.5   \n",
       "12          4.0         8.5        12.53          15.2         24.7   \n",
       "13          4.1         8.8        12.98          14.4         23.4   \n",
       "14          1.0         2.2         3.24           2.7          4.4   \n",
       "15          1.0         2.1         3.11           3.6          5.8   \n",
       "16          2.1         4.5          6.6           0.0          0.0   \n",
       "17          5.7        12.1        17.83           6.6         10.7   \n",
       "18         16.6        35.4        52.01          24.0         38.9   \n",
       "19          4.1         8.8         12.9           7.8         12.6   \n",
       "20         25.8        55.0        80.83           8.1         13.1   \n",
       "21         82.3       175.3       257.69          72.4        117.5   \n",
       "22          2.5         5.4         7.91          45.9         74.5   \n",
       "23          5.4        11.6        17.04          10.6         17.2   \n",
       "24          4.2         9.0        13.18           6.8         11.1   \n",
       "25          1.1         2.2          3.3          17.3         28.0   \n",
       "26          0.7         1.5         2.16          20.4         33.1   \n",
       "27          0.4         0.8         1.19          10.6         17.3   \n",
       "28          2.6         5.4         7.98           1.7          2.8   \n",
       "29         35.0        74.5       109.45          21.6         35.0   \n",
       "30         32.6        69.3        101.9          16.7         27.1   \n",
       "31         64.7       137.8       202.56          54.7         88.7   \n",
       "32         23.8        50.7        74.47          57.4         93.1   \n",
       "33          0.1         0.2         0.25          49.9         80.9   \n",
       "34          8.7        18.5        27.21          20.4         33.1   \n",
       "35          3.0         6.3         9.24           3.4          5.5   \n",
       "36        100.7       214.4       315.04          48.2         78.3   \n",
       "37         28.6        60.9        89.48          14.6         23.7   \n",
       "38          0.9         1.9         2.83           1.2          1.9   \n",
       "39         17.1        36.4        53.45          16.3         26.4   \n",
       "40          0.3         0.5          0.8           1.5          2.5   \n",
       "41          2.0         4.2         6.23           9.4         15.3   \n",
       "42         31.9        68.0         99.9          43.9         71.3   \n",
       "43          3.9         8.4        12.34           2.5          4.1   \n",
       "44          2.6         5.4         8.01           1.5          2.5   \n",
       "45         11.7        24.8        36.48          10.4         16.9   \n",
       "46        555.6      1183.0      1738.57         138.7        225.1   \n",
       "47          3.7         7.9        11.54           0.0          0.0   \n",
       "48         42.8        91.0        133.8          56.8         92.2   \n",
       "49          0.1         0.1         0.17           3.9          6.3   \n",
       "\n",
       "   total veggies    corn   wheat   cotton  \\\n",
       "0          14.33    34.9    70.0   317.61   \n",
       "1           1.56     0.0     0.0      0.0   \n",
       "2         386.91     7.3    48.7   423.95   \n",
       "3          11.45    69.5   114.5   665.44   \n",
       "4        2106.79    34.6   249.3  1064.95   \n",
       "5         118.27   183.2   400.5      0.0   \n",
       "6          11.16     0.0     0.0      0.0   \n",
       "7          20.03    26.9    22.9      0.0   \n",
       "8         450.86     3.5     1.8    78.24   \n",
       "9         154.77    57.8    65.4  1154.07   \n",
       "10         24.83     0.0     0.0      0.0   \n",
       "11        319.19    24.0   568.2      0.0   \n",
       "12         39.95  2228.5   223.8      0.0   \n",
       "13         37.89  1123.2   114.0      0.0   \n",
       "14           7.1  2529.8     3.1      0.0   \n",
       "15          9.32   457.3  1426.5    43.98   \n",
       "16           0.0   179.1   149.3      0.0   \n",
       "17         17.25    91.4    78.7   280.42   \n",
       "18          62.9     0.0     0.0      0.0   \n",
       "19         20.43    54.1    55.8      0.0   \n",
       "20         21.13     0.0     0.0      0.0   \n",
       "21        189.96   381.5   247.0      0.0   \n",
       "22        120.37  1264.3   538.1      0.0   \n",
       "23         27.87   110.0   102.2   494.75   \n",
       "24          17.9   428.8   161.7   345.29   \n",
       "25         45.27     5.4  1198.1      0.0   \n",
       "26          53.5  1735.9   292.3      0.0   \n",
       "27         27.93     0.0     5.4      0.0   \n",
       "28           4.5     0.0     0.0      0.0   \n",
       "29         56.54    10.1     6.7      0.0   \n",
       "30         43.88    11.2    13.9    72.62   \n",
       "31        143.37   106.1    29.9      0.0   \n",
       "32        150.45    92.2   200.3   470.86   \n",
       "33        130.79   236.1  1664.5      0.0   \n",
       "34         53.53   535.1   207.4      0.0   \n",
       "35           8.9    27.5   324.8   110.54   \n",
       "36         126.5    11.7   320.3      0.0   \n",
       "37         38.26   112.1    41.0      0.0   \n",
       "38          3.02     0.0     0.0      0.0   \n",
       "39         42.66    32.1    55.3    206.1   \n",
       "40          4.06   643.6   704.5      0.0   \n",
       "41         24.67    88.8   100.0   363.83   \n",
       "42        115.23   167.2   309.7  2308.76   \n",
       "43           6.6     5.3    42.8      0.0   \n",
       "44          4.05     0.0     0.0      0.0   \n",
       "45         27.25    39.5    77.5    64.84   \n",
       "46        363.79    29.5   786.3      0.0   \n",
       "47           0.0     3.5     1.6      0.0   \n",
       "48        148.99   460.5    96.7      0.0   \n",
       "49         10.23     9.0    20.7      0.0   \n",
       "\n",
       "                                                 text  \n",
       "0   Alabama<br>Beef 34.4 Dairy 4.06<br>Fruits 25.1...  \n",
       "1   Alaska<br>Beef 0.2 Dairy 0.19<br>Fruits 0.0 Ve...  \n",
       "2   Arizona<br>Beef 71.3 Dairy 105.48<br>Fruits 60...  \n",
       "3   Arkansas<br>Beef 53.2 Dairy 3.53<br>Fruits 6.8...  \n",
       "4   California<br>Beef 228.7 Dairy 929.95<br>Fruit...  \n",
       "5   Colorado<br>Beef 261.4 Dairy 71.94<br>Fruits 1...  \n",
       "6   Connecticut<br>Beef 1.1 Dairy 9.49<br>Fruits 1...  \n",
       "7   Delaware<br>Beef 0.4 Dairy 2.3<br>Fruits 1.53 ...  \n",
       "8   Florida<br>Beef 42.6 Dairy 66.31<br>Fruits 137...  \n",
       "9   Georgia<br>Beef 31.0 Dairy 38.38<br>Fruits 233...  \n",
       "10  Hawaii<br>Beef 4.0 Dairy 1.16<br>Fruits 55.51 ...  \n",
       "11  Idaho<br>Beef 119.8 Dairy 294.6<br>Fruits 21.6...  \n",
       "12  Illinois<br>Beef 53.7 Dairy 45.82<br>Fruits 12...  \n",
       "13  Indiana<br>Beef 21.9 Dairy 89.7<br>Fruits 12.9...  \n",
       "14  Iowa<br>Beef 289.8 Dairy 107.0<br>Fruits 3.24 ...  \n",
       "15  Kansas<br>Beef 659.3 Dairy 65.45<br>Fruits 3.1...  \n",
       "16  Kentucky<br>Beef 54.8 Dairy 28.27<br>Fruits 6....  \n",
       "17  Louisiana<br>Beef 19.8 Dairy 6.02<br>Fruits 17...  \n",
       "18  Maine<br>Beef 1.4 Dairy 16.18<br>Fruits 52.01 ...  \n",
       "19  Maryland<br>Beef 5.6 Dairy 24.81<br>Fruits 12....  \n",
       "20  Massachusetts<br>Beef 0.6 Dairy 5.81<br>Fruits...  \n",
       "21  Michigan<br>Beef 37.7 Dairy 214.82<br>Fruits 2...  \n",
       "22  Minnesota<br>Beef 112.3 Dairy 218.05<br>Fruits...  \n",
       "23  Mississippi<br>Beef 12.8 Dairy 5.45<br>Fruits ...  \n",
       "24  Missouri<br>Beef 137.2 Dairy 34.26<br>Fruits 1...  \n",
       "25  Montana<br>Beef 105.0 Dairy 6.82<br>Fruits 3.3...  \n",
       "26  Nebraska<br>Beef 762.2 Dairy 30.07<br>Fruits 2...  \n",
       "27  Nevada<br>Beef 21.8 Dairy 16.57<br>Fruits 1.19...  \n",
       "28  New Hampshire<br>Beef 0.6 Dairy 7.46<br>Fruits...  \n",
       "29  New Jersey<br>Beef 0.8 Dairy 3.37<br>Fruits 10...  \n",
       "30  New Mexico<br>Beef 117.2 Dairy 191.01<br>Fruit...  \n",
       "31  New York<br>Beef 22.2 Dairy 331.8<br>Fruits 20...  \n",
       "32  North Carolina<br>Beef 24.8 Dairy 24.9<br>Frui...  \n",
       "33  North Dakota<br>Beef 78.5 Dairy 8.14<br>Fruits...  \n",
       "34  Ohio<br>Beef 36.2 Dairy 134.57<br>Fruits 27.21...  \n",
       "35  Oklahoma<br>Beef 337.6 Dairy 24.35<br>Fruits 9...  \n",
       "36  Oregon<br>Beef 58.8 Dairy 63.66<br>Fruits 315....  \n",
       "37  Pennsylvania<br>Beef 50.9 Dairy 280.87<br>Frui...  \n",
       "38  Rhode Island<br>Beef 0.1 Dairy 0.52<br>Fruits ...  \n",
       "39  South Carolina<br>Beef 15.2 Dairy 7.62<br>Frui...  \n",
       "40  South Dakota<br>Beef 193.5 Dairy 46.77<br>Frui...  \n",
       "41  Tennessee<br>Beef 51.1 Dairy 21.18<br>Fruits 6...  \n",
       "42  Texas<br>Beef 961.0 Dairy 240.55<br>Fruits 99....  \n",
       "43  Utah<br>Beef 27.9 Dairy 48.6<br>Fruits 12.34 V...  \n",
       "44  Vermont<br>Beef 6.2 Dairy 65.98<br>Fruits 8.01...  \n",
       "45  Virginia<br>Beef 39.5 Dairy 47.85<br>Fruits 36...  \n",
       "46  Washington<br>Beef 59.2 Dairy 154.18<br>Fruits...  \n",
       "47  West Virginia<br>Beef 12.0 Dairy 3.9<br>Fruits...  \n",
       "48  Wisconsin<br>Beef 107.3 Dairy 633.6<br>Fruits ...  \n",
       "49  Wyoming<br>Beef 75.1 Dairy 2.89<br>Fruits 0.17...  >"
      ]
     },
     "execution_count": 2,
     "metadata": {},
     "output_type": "execute_result"
    }
   ],
   "source": [
    "df.head"
   ]
  },
  {
   "cell_type": "code",
   "execution_count": null,
   "metadata": {},
   "outputs": [],
   "source": []
  }
 ],
 "metadata": {
  "kernelspec": {
   "display_name": "Python 3",
   "language": "python",
   "name": "python3"
  },
  "language_info": {
   "codemirror_mode": {
    "name": "ipython",
    "version": 3
   },
   "file_extension": ".py",
   "mimetype": "text/x-python",
   "name": "python",
   "nbconvert_exporter": "python",
   "pygments_lexer": "ipython3",
   "version": "3.7.3"
  }
 },
 "nbformat": 4,
 "nbformat_minor": 2
}
