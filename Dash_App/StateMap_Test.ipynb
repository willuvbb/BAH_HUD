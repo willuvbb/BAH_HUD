{
 "cells": [
  {
   "cell_type": "code",
   "execution_count": 1,
   "metadata": {},
   "outputs": [],
   "source": [
    "import plotly.graph_objects as go\n",
    "\n",
    "import pandas as pd\n",
    "df = pd.read_csv('./../StatesWithCounts.csv')"
   ]
  },
  {
   "cell_type": "code",
   "execution_count": 2,
   "metadata": {},
   "outputs": [
    {
     "data": {
      "text/html": [
       "<div>\n",
       "<style scoped>\n",
       "    .dataframe tbody tr th:only-of-type {\n",
       "        vertical-align: middle;\n",
       "    }\n",
       "\n",
       "    .dataframe tbody tr th {\n",
       "        vertical-align: top;\n",
       "    }\n",
       "\n",
       "    .dataframe thead th {\n",
       "        text-align: right;\n",
       "    }\n",
       "</style>\n",
       "<table border=\"1\" class=\"dataframe\">\n",
       "  <thead>\n",
       "    <tr style=\"text-align: right;\">\n",
       "      <th></th>\n",
       "      <th>Unnamed: 0</th>\n",
       "      <th>State</th>\n",
       "      <th>Abbreviation</th>\n",
       "      <th>count</th>\n",
       "    </tr>\n",
       "  </thead>\n",
       "  <tbody>\n",
       "    <tr>\n",
       "      <th>0</th>\n",
       "      <td>0</td>\n",
       "      <td>Alabama</td>\n",
       "      <td>AL</td>\n",
       "      <td>0</td>\n",
       "    </tr>\n",
       "    <tr>\n",
       "      <th>1</th>\n",
       "      <td>1</td>\n",
       "      <td>Alaska</td>\n",
       "      <td>AK</td>\n",
       "      <td>0</td>\n",
       "    </tr>\n",
       "    <tr>\n",
       "      <th>2</th>\n",
       "      <td>2</td>\n",
       "      <td>Arizona</td>\n",
       "      <td>AZ</td>\n",
       "      <td>4</td>\n",
       "    </tr>\n",
       "    <tr>\n",
       "      <th>3</th>\n",
       "      <td>3</td>\n",
       "      <td>Arkansas</td>\n",
       "      <td>AR</td>\n",
       "      <td>0</td>\n",
       "    </tr>\n",
       "    <tr>\n",
       "      <th>4</th>\n",
       "      <td>4</td>\n",
       "      <td>California</td>\n",
       "      <td>CA</td>\n",
       "      <td>32</td>\n",
       "    </tr>\n",
       "    <tr>\n",
       "      <th>5</th>\n",
       "      <td>5</td>\n",
       "      <td>Colorado</td>\n",
       "      <td>CO</td>\n",
       "      <td>0</td>\n",
       "    </tr>\n",
       "    <tr>\n",
       "      <th>6</th>\n",
       "      <td>6</td>\n",
       "      <td>Connecticut</td>\n",
       "      <td>CT</td>\n",
       "      <td>7</td>\n",
       "    </tr>\n",
       "    <tr>\n",
       "      <th>7</th>\n",
       "      <td>7</td>\n",
       "      <td>Delaware</td>\n",
       "      <td>DE</td>\n",
       "      <td>0</td>\n",
       "    </tr>\n",
       "    <tr>\n",
       "      <th>8</th>\n",
       "      <td>8</td>\n",
       "      <td>District of Columbia</td>\n",
       "      <td>DC</td>\n",
       "      <td>68</td>\n",
       "    </tr>\n",
       "    <tr>\n",
       "      <th>9</th>\n",
       "      <td>9</td>\n",
       "      <td>Florida</td>\n",
       "      <td>FL</td>\n",
       "      <td>16</td>\n",
       "    </tr>\n",
       "    <tr>\n",
       "      <th>10</th>\n",
       "      <td>10</td>\n",
       "      <td>Georgia</td>\n",
       "      <td>GA</td>\n",
       "      <td>7</td>\n",
       "    </tr>\n",
       "    <tr>\n",
       "      <th>11</th>\n",
       "      <td>11</td>\n",
       "      <td>Hawaii</td>\n",
       "      <td>HI</td>\n",
       "      <td>1</td>\n",
       "    </tr>\n",
       "    <tr>\n",
       "      <th>12</th>\n",
       "      <td>12</td>\n",
       "      <td>Idaho</td>\n",
       "      <td>ID</td>\n",
       "      <td>1</td>\n",
       "    </tr>\n",
       "    <tr>\n",
       "      <th>13</th>\n",
       "      <td>13</td>\n",
       "      <td>Illinois</td>\n",
       "      <td>IL</td>\n",
       "      <td>7</td>\n",
       "    </tr>\n",
       "    <tr>\n",
       "      <th>14</th>\n",
       "      <td>14</td>\n",
       "      <td>Indiana</td>\n",
       "      <td>IN</td>\n",
       "      <td>2</td>\n",
       "    </tr>\n",
       "    <tr>\n",
       "      <th>15</th>\n",
       "      <td>15</td>\n",
       "      <td>Iowa</td>\n",
       "      <td>IA</td>\n",
       "      <td>4</td>\n",
       "    </tr>\n",
       "    <tr>\n",
       "      <th>16</th>\n",
       "      <td>16</td>\n",
       "      <td>Kansas</td>\n",
       "      <td>KS</td>\n",
       "      <td>3</td>\n",
       "    </tr>\n",
       "    <tr>\n",
       "      <th>17</th>\n",
       "      <td>17</td>\n",
       "      <td>Kentucky</td>\n",
       "      <td>KY</td>\n",
       "      <td>5</td>\n",
       "    </tr>\n",
       "    <tr>\n",
       "      <th>18</th>\n",
       "      <td>18</td>\n",
       "      <td>Louisiana</td>\n",
       "      <td>LA</td>\n",
       "      <td>2</td>\n",
       "    </tr>\n",
       "    <tr>\n",
       "      <th>19</th>\n",
       "      <td>19</td>\n",
       "      <td>Maine</td>\n",
       "      <td>ME</td>\n",
       "      <td>3</td>\n",
       "    </tr>\n",
       "    <tr>\n",
       "      <th>20</th>\n",
       "      <td>20</td>\n",
       "      <td>Montana</td>\n",
       "      <td>MT</td>\n",
       "      <td>0</td>\n",
       "    </tr>\n",
       "    <tr>\n",
       "      <th>21</th>\n",
       "      <td>21</td>\n",
       "      <td>Nebraska</td>\n",
       "      <td>NE</td>\n",
       "      <td>0</td>\n",
       "    </tr>\n",
       "    <tr>\n",
       "      <th>22</th>\n",
       "      <td>22</td>\n",
       "      <td>Nevada</td>\n",
       "      <td>NV</td>\n",
       "      <td>0</td>\n",
       "    </tr>\n",
       "    <tr>\n",
       "      <th>23</th>\n",
       "      <td>23</td>\n",
       "      <td>New Hampshire</td>\n",
       "      <td>NH</td>\n",
       "      <td>2</td>\n",
       "    </tr>\n",
       "    <tr>\n",
       "      <th>24</th>\n",
       "      <td>24</td>\n",
       "      <td>New Jersey</td>\n",
       "      <td>NJ</td>\n",
       "      <td>11</td>\n",
       "    </tr>\n",
       "    <tr>\n",
       "      <th>25</th>\n",
       "      <td>25</td>\n",
       "      <td>New Mexico</td>\n",
       "      <td>NM</td>\n",
       "      <td>1</td>\n",
       "    </tr>\n",
       "    <tr>\n",
       "      <th>26</th>\n",
       "      <td>26</td>\n",
       "      <td>New York</td>\n",
       "      <td>NY</td>\n",
       "      <td>137</td>\n",
       "    </tr>\n",
       "    <tr>\n",
       "      <th>27</th>\n",
       "      <td>27</td>\n",
       "      <td>North Carolina</td>\n",
       "      <td>NC</td>\n",
       "      <td>7</td>\n",
       "    </tr>\n",
       "    <tr>\n",
       "      <th>28</th>\n",
       "      <td>28</td>\n",
       "      <td>North Dakota</td>\n",
       "      <td>ND</td>\n",
       "      <td>0</td>\n",
       "    </tr>\n",
       "    <tr>\n",
       "      <th>29</th>\n",
       "      <td>29</td>\n",
       "      <td>Ohio</td>\n",
       "      <td>OH</td>\n",
       "      <td>4</td>\n",
       "    </tr>\n",
       "    <tr>\n",
       "      <th>30</th>\n",
       "      <td>30</td>\n",
       "      <td>Oklahoma</td>\n",
       "      <td>OK</td>\n",
       "      <td>2</td>\n",
       "    </tr>\n",
       "    <tr>\n",
       "      <th>31</th>\n",
       "      <td>31</td>\n",
       "      <td>Oregon</td>\n",
       "      <td>OR</td>\n",
       "      <td>6</td>\n",
       "    </tr>\n",
       "    <tr>\n",
       "      <th>32</th>\n",
       "      <td>32</td>\n",
       "      <td>Maryland</td>\n",
       "      <td>MD</td>\n",
       "      <td>9</td>\n",
       "    </tr>\n",
       "    <tr>\n",
       "      <th>33</th>\n",
       "      <td>33</td>\n",
       "      <td>Massachusetts</td>\n",
       "      <td>MA</td>\n",
       "      <td>8</td>\n",
       "    </tr>\n",
       "    <tr>\n",
       "      <th>34</th>\n",
       "      <td>34</td>\n",
       "      <td>Michigan</td>\n",
       "      <td>MI</td>\n",
       "      <td>5</td>\n",
       "    </tr>\n",
       "    <tr>\n",
       "      <th>35</th>\n",
       "      <td>35</td>\n",
       "      <td>Minnesota</td>\n",
       "      <td>MN</td>\n",
       "      <td>11</td>\n",
       "    </tr>\n",
       "    <tr>\n",
       "      <th>36</th>\n",
       "      <td>36</td>\n",
       "      <td>Mississippi</td>\n",
       "      <td>MS</td>\n",
       "      <td>0</td>\n",
       "    </tr>\n",
       "    <tr>\n",
       "      <th>37</th>\n",
       "      <td>37</td>\n",
       "      <td>Missouri</td>\n",
       "      <td>MO</td>\n",
       "      <td>7</td>\n",
       "    </tr>\n",
       "    <tr>\n",
       "      <th>38</th>\n",
       "      <td>38</td>\n",
       "      <td>Pennsylvania</td>\n",
       "      <td>PA</td>\n",
       "      <td>15</td>\n",
       "    </tr>\n",
       "    <tr>\n",
       "      <th>39</th>\n",
       "      <td>39</td>\n",
       "      <td>Rhode Island</td>\n",
       "      <td>RI</td>\n",
       "      <td>0</td>\n",
       "    </tr>\n",
       "    <tr>\n",
       "      <th>40</th>\n",
       "      <td>40</td>\n",
       "      <td>South Carolina</td>\n",
       "      <td>SC</td>\n",
       "      <td>3</td>\n",
       "    </tr>\n",
       "    <tr>\n",
       "      <th>41</th>\n",
       "      <td>41</td>\n",
       "      <td>South Dakota</td>\n",
       "      <td>SD</td>\n",
       "      <td>1</td>\n",
       "    </tr>\n",
       "    <tr>\n",
       "      <th>42</th>\n",
       "      <td>42</td>\n",
       "      <td>Tennessee</td>\n",
       "      <td>TN</td>\n",
       "      <td>4</td>\n",
       "    </tr>\n",
       "    <tr>\n",
       "      <th>43</th>\n",
       "      <td>43</td>\n",
       "      <td>Texas</td>\n",
       "      <td>TX</td>\n",
       "      <td>19</td>\n",
       "    </tr>\n",
       "    <tr>\n",
       "      <th>44</th>\n",
       "      <td>44</td>\n",
       "      <td>Utah</td>\n",
       "      <td>UT</td>\n",
       "      <td>0</td>\n",
       "    </tr>\n",
       "    <tr>\n",
       "      <th>45</th>\n",
       "      <td>45</td>\n",
       "      <td>Vermont</td>\n",
       "      <td>VT</td>\n",
       "      <td>0</td>\n",
       "    </tr>\n",
       "    <tr>\n",
       "      <th>46</th>\n",
       "      <td>46</td>\n",
       "      <td>Virginia</td>\n",
       "      <td>VA</td>\n",
       "      <td>13</td>\n",
       "    </tr>\n",
       "    <tr>\n",
       "      <th>47</th>\n",
       "      <td>47</td>\n",
       "      <td>Washington</td>\n",
       "      <td>WA</td>\n",
       "      <td>21</td>\n",
       "    </tr>\n",
       "    <tr>\n",
       "      <th>48</th>\n",
       "      <td>48</td>\n",
       "      <td>West Virginia</td>\n",
       "      <td>WV</td>\n",
       "      <td>0</td>\n",
       "    </tr>\n",
       "    <tr>\n",
       "      <th>49</th>\n",
       "      <td>49</td>\n",
       "      <td>Wisconsin</td>\n",
       "      <td>WI</td>\n",
       "      <td>5</td>\n",
       "    </tr>\n",
       "    <tr>\n",
       "      <th>50</th>\n",
       "      <td>50</td>\n",
       "      <td>Wyoming</td>\n",
       "      <td>WY</td>\n",
       "      <td>0</td>\n",
       "    </tr>\n",
       "  </tbody>\n",
       "</table>\n",
       "</div>"
      ],
      "text/plain": [
       "    Unnamed: 0                 State Abbreviation  count\n",
       "0            0               Alabama           AL      0\n",
       "1            1                Alaska           AK      0\n",
       "2            2               Arizona           AZ      4\n",
       "3            3              Arkansas           AR      0\n",
       "4            4            California           CA     32\n",
       "5            5              Colorado           CO      0\n",
       "6            6           Connecticut           CT      7\n",
       "7            7              Delaware           DE      0\n",
       "8            8  District of Columbia           DC     68\n",
       "9            9               Florida           FL     16\n",
       "10          10               Georgia           GA      7\n",
       "11          11                Hawaii           HI      1\n",
       "12          12                 Idaho           ID      1\n",
       "13          13              Illinois           IL      7\n",
       "14          14               Indiana           IN      2\n",
       "15          15                  Iowa           IA      4\n",
       "16          16                Kansas           KS      3\n",
       "17          17              Kentucky           KY      5\n",
       "18          18             Louisiana           LA      2\n",
       "19          19                 Maine           ME      3\n",
       "20          20               Montana           MT      0\n",
       "21          21              Nebraska           NE      0\n",
       "22          22                Nevada           NV      0\n",
       "23          23         New Hampshire           NH      2\n",
       "24          24            New Jersey           NJ     11\n",
       "25          25            New Mexico           NM      1\n",
       "26          26              New York           NY    137\n",
       "27          27        North Carolina           NC      7\n",
       "28          28          North Dakota           ND      0\n",
       "29          29                  Ohio           OH      4\n",
       "30          30              Oklahoma           OK      2\n",
       "31          31                Oregon           OR      6\n",
       "32          32              Maryland           MD      9\n",
       "33          33         Massachusetts           MA      8\n",
       "34          34              Michigan           MI      5\n",
       "35          35             Minnesota           MN     11\n",
       "36          36           Mississippi           MS      0\n",
       "37          37              Missouri           MO      7\n",
       "38          38          Pennsylvania           PA     15\n",
       "39          39          Rhode Island           RI      0\n",
       "40          40        South Carolina           SC      3\n",
       "41          41          South Dakota           SD      1\n",
       "42          42             Tennessee           TN      4\n",
       "43          43                 Texas           TX     19\n",
       "44          44                  Utah           UT      0\n",
       "45          45               Vermont           VT      0\n",
       "46          46              Virginia           VA     13\n",
       "47          47            Washington           WA     21\n",
       "48          48         West Virginia           WV      0\n",
       "49          49             Wisconsin           WI      5\n",
       "50          50               Wyoming           WY      0"
      ]
     },
     "execution_count": 2,
     "metadata": {},
     "output_type": "execute_result"
    }
   ],
   "source": [
    "df"
   ]
  },
  {
   "cell_type": "code",
   "execution_count": 7,
   "metadata": {},
   "outputs": [
    {
     "data": {
      "application/vnd.plotly.v1+json": {
       "config": {
        "plotlyServerURL": "https://plot.ly"
       },
       "data": [
        {
         "autocolorscale": false,
         "colorbar": {
          "title": {
           "text": "Number of Tweets"
          }
         },
         "colorscale": [
          [
           0,
           "rgb(247,251,255)"
          ],
          [
           0.125,
           "rgb(222,235,247)"
          ],
          [
           0.25,
           "rgb(198,219,239)"
          ],
          [
           0.375,
           "rgb(158,202,225)"
          ],
          [
           0.5,
           "rgb(107,174,214)"
          ],
          [
           0.625,
           "rgb(66,146,198)"
          ],
          [
           0.75,
           "rgb(33,113,181)"
          ],
          [
           0.875,
           "rgb(8,81,156)"
          ],
          [
           1,
           "rgb(8,48,107)"
          ]
         ],
         "locationmode": "USA-states",
         "locations": [
          "AL",
          "AK",
          "AZ",
          "AR",
          "CA",
          "CO",
          "CT",
          "DE",
          "DC",
          "FL",
          "GA",
          "HI",
          "ID",
          "IL",
          "IN",
          "IA",
          "KS",
          "KY",
          "LA",
          "ME",
          "MT",
          "NE",
          "NV",
          "NH",
          "NJ",
          "NM",
          "NY",
          "NC",
          "ND",
          "OH",
          "OK",
          "OR",
          "MD",
          "MA",
          "MI",
          "MN",
          "MS",
          "MO",
          "PA",
          "RI",
          "SC",
          "SD",
          "TN",
          "TX",
          "UT",
          "VT",
          "VA",
          "WA",
          "WV",
          "WI",
          "WY"
         ],
         "marker": {
          "line": {
           "color": "white"
          }
         },
         "text": [
          "AL<br>0 Tweets",
          "AK<br>0 Tweets",
          "AZ<br>4 Tweets",
          "AR<br>0 Tweets",
          "CA<br>32 Tweets",
          "CO<br>0 Tweets",
          "CT<br>7 Tweets",
          "DE<br>0 Tweets",
          "DC<br>68 Tweets",
          "FL<br>16 Tweets",
          "GA<br>7 Tweets",
          "HI<br>1 Tweets",
          "ID<br>1 Tweets",
          "IL<br>7 Tweets",
          "IN<br>2 Tweets",
          "IA<br>4 Tweets",
          "KS<br>3 Tweets",
          "KY<br>5 Tweets",
          "LA<br>2 Tweets",
          "ME<br>3 Tweets",
          "MT<br>0 Tweets",
          "NE<br>0 Tweets",
          "NV<br>0 Tweets",
          "NH<br>2 Tweets",
          "NJ<br>11 Tweets",
          "NM<br>1 Tweets",
          "NY<br>137 Tweets",
          "NC<br>7 Tweets",
          "ND<br>0 Tweets",
          "OH<br>4 Tweets",
          "OK<br>2 Tweets",
          "OR<br>6 Tweets",
          "MD<br>9 Tweets",
          "MA<br>8 Tweets",
          "MI<br>5 Tweets",
          "MN<br>11 Tweets",
          "MS<br>0 Tweets",
          "MO<br>7 Tweets",
          "PA<br>15 Tweets",
          "RI<br>0 Tweets",
          "SC<br>3 Tweets",
          "SD<br>1 Tweets",
          "TN<br>4 Tweets",
          "TX<br>19 Tweets",
          "UT<br>0 Tweets",
          "VT<br>0 Tweets",
          "VA<br>13 Tweets",
          "WA<br>21 Tweets",
          "WV<br>0 Tweets",
          "WI<br>5 Tweets",
          "WY<br>0 Tweets"
         ],
         "type": "choropleth",
         "z": [
          0,
          0,
          4,
          0,
          32,
          0,
          7,
          0,
          68,
          16,
          7,
          1,
          1,
          7,
          2,
          4,
          3,
          5,
          2,
          3,
          0,
          0,
          0,
          2,
          11,
          1,
          137,
          7,
          0,
          4,
          2,
          6,
          9,
          8,
          5,
          11,
          0,
          7,
          15,
          0,
          3,
          1,
          4,
          19,
          0,
          0,
          13,
          21,
          0,
          5,
          0
         ]
        }
       ],
       "layout": {
        "geo": {
         "lakecolor": "rgb(255, 255, 255)",
         "projection": {
          "type": "albers usa"
         },
         "scope": "usa",
         "showlakes": true
        },
        "template": {
         "data": {
          "bar": [
           {
            "error_x": {
             "color": "#2a3f5f"
            },
            "error_y": {
             "color": "#2a3f5f"
            },
            "marker": {
             "line": {
              "color": "#E5ECF6",
              "width": 0.5
             }
            },
            "type": "bar"
           }
          ],
          "barpolar": [
           {
            "marker": {
             "line": {
              "color": "#E5ECF6",
              "width": 0.5
             }
            },
            "type": "barpolar"
           }
          ],
          "carpet": [
           {
            "aaxis": {
             "endlinecolor": "#2a3f5f",
             "gridcolor": "white",
             "linecolor": "white",
             "minorgridcolor": "white",
             "startlinecolor": "#2a3f5f"
            },
            "baxis": {
             "endlinecolor": "#2a3f5f",
             "gridcolor": "white",
             "linecolor": "white",
             "minorgridcolor": "white",
             "startlinecolor": "#2a3f5f"
            },
            "type": "carpet"
           }
          ],
          "choropleth": [
           {
            "colorbar": {
             "outlinewidth": 0,
             "ticks": ""
            },
            "type": "choropleth"
           }
          ],
          "contour": [
           {
            "colorbar": {
             "outlinewidth": 0,
             "ticks": ""
            },
            "colorscale": [
             [
              0,
              "#0d0887"
             ],
             [
              0.1111111111111111,
              "#46039f"
             ],
             [
              0.2222222222222222,
              "#7201a8"
             ],
             [
              0.3333333333333333,
              "#9c179e"
             ],
             [
              0.4444444444444444,
              "#bd3786"
             ],
             [
              0.5555555555555556,
              "#d8576b"
             ],
             [
              0.6666666666666666,
              "#ed7953"
             ],
             [
              0.7777777777777778,
              "#fb9f3a"
             ],
             [
              0.8888888888888888,
              "#fdca26"
             ],
             [
              1,
              "#f0f921"
             ]
            ],
            "type": "contour"
           }
          ],
          "contourcarpet": [
           {
            "colorbar": {
             "outlinewidth": 0,
             "ticks": ""
            },
            "type": "contourcarpet"
           }
          ],
          "heatmap": [
           {
            "colorbar": {
             "outlinewidth": 0,
             "ticks": ""
            },
            "colorscale": [
             [
              0,
              "#0d0887"
             ],
             [
              0.1111111111111111,
              "#46039f"
             ],
             [
              0.2222222222222222,
              "#7201a8"
             ],
             [
              0.3333333333333333,
              "#9c179e"
             ],
             [
              0.4444444444444444,
              "#bd3786"
             ],
             [
              0.5555555555555556,
              "#d8576b"
             ],
             [
              0.6666666666666666,
              "#ed7953"
             ],
             [
              0.7777777777777778,
              "#fb9f3a"
             ],
             [
              0.8888888888888888,
              "#fdca26"
             ],
             [
              1,
              "#f0f921"
             ]
            ],
            "type": "heatmap"
           }
          ],
          "heatmapgl": [
           {
            "colorbar": {
             "outlinewidth": 0,
             "ticks": ""
            },
            "colorscale": [
             [
              0,
              "#0d0887"
             ],
             [
              0.1111111111111111,
              "#46039f"
             ],
             [
              0.2222222222222222,
              "#7201a8"
             ],
             [
              0.3333333333333333,
              "#9c179e"
             ],
             [
              0.4444444444444444,
              "#bd3786"
             ],
             [
              0.5555555555555556,
              "#d8576b"
             ],
             [
              0.6666666666666666,
              "#ed7953"
             ],
             [
              0.7777777777777778,
              "#fb9f3a"
             ],
             [
              0.8888888888888888,
              "#fdca26"
             ],
             [
              1,
              "#f0f921"
             ]
            ],
            "type": "heatmapgl"
           }
          ],
          "histogram": [
           {
            "marker": {
             "colorbar": {
              "outlinewidth": 0,
              "ticks": ""
             }
            },
            "type": "histogram"
           }
          ],
          "histogram2d": [
           {
            "colorbar": {
             "outlinewidth": 0,
             "ticks": ""
            },
            "colorscale": [
             [
              0,
              "#0d0887"
             ],
             [
              0.1111111111111111,
              "#46039f"
             ],
             [
              0.2222222222222222,
              "#7201a8"
             ],
             [
              0.3333333333333333,
              "#9c179e"
             ],
             [
              0.4444444444444444,
              "#bd3786"
             ],
             [
              0.5555555555555556,
              "#d8576b"
             ],
             [
              0.6666666666666666,
              "#ed7953"
             ],
             [
              0.7777777777777778,
              "#fb9f3a"
             ],
             [
              0.8888888888888888,
              "#fdca26"
             ],
             [
              1,
              "#f0f921"
             ]
            ],
            "type": "histogram2d"
           }
          ],
          "histogram2dcontour": [
           {
            "colorbar": {
             "outlinewidth": 0,
             "ticks": ""
            },
            "colorscale": [
             [
              0,
              "#0d0887"
             ],
             [
              0.1111111111111111,
              "#46039f"
             ],
             [
              0.2222222222222222,
              "#7201a8"
             ],
             [
              0.3333333333333333,
              "#9c179e"
             ],
             [
              0.4444444444444444,
              "#bd3786"
             ],
             [
              0.5555555555555556,
              "#d8576b"
             ],
             [
              0.6666666666666666,
              "#ed7953"
             ],
             [
              0.7777777777777778,
              "#fb9f3a"
             ],
             [
              0.8888888888888888,
              "#fdca26"
             ],
             [
              1,
              "#f0f921"
             ]
            ],
            "type": "histogram2dcontour"
           }
          ],
          "mesh3d": [
           {
            "colorbar": {
             "outlinewidth": 0,
             "ticks": ""
            },
            "type": "mesh3d"
           }
          ],
          "parcoords": [
           {
            "line": {
             "colorbar": {
              "outlinewidth": 0,
              "ticks": ""
             }
            },
            "type": "parcoords"
           }
          ],
          "scatter": [
           {
            "marker": {
             "colorbar": {
              "outlinewidth": 0,
              "ticks": ""
             }
            },
            "type": "scatter"
           }
          ],
          "scatter3d": [
           {
            "line": {
             "colorbar": {
              "outlinewidth": 0,
              "ticks": ""
             }
            },
            "marker": {
             "colorbar": {
              "outlinewidth": 0,
              "ticks": ""
             }
            },
            "type": "scatter3d"
           }
          ],
          "scattercarpet": [
           {
            "marker": {
             "colorbar": {
              "outlinewidth": 0,
              "ticks": ""
             }
            },
            "type": "scattercarpet"
           }
          ],
          "scattergeo": [
           {
            "marker": {
             "colorbar": {
              "outlinewidth": 0,
              "ticks": ""
             }
            },
            "type": "scattergeo"
           }
          ],
          "scattergl": [
           {
            "marker": {
             "colorbar": {
              "outlinewidth": 0,
              "ticks": ""
             }
            },
            "type": "scattergl"
           }
          ],
          "scattermapbox": [
           {
            "marker": {
             "colorbar": {
              "outlinewidth": 0,
              "ticks": ""
             }
            },
            "type": "scattermapbox"
           }
          ],
          "scatterpolar": [
           {
            "marker": {
             "colorbar": {
              "outlinewidth": 0,
              "ticks": ""
             }
            },
            "type": "scatterpolar"
           }
          ],
          "scatterpolargl": [
           {
            "marker": {
             "colorbar": {
              "outlinewidth": 0,
              "ticks": ""
             }
            },
            "type": "scatterpolargl"
           }
          ],
          "scatterternary": [
           {
            "marker": {
             "colorbar": {
              "outlinewidth": 0,
              "ticks": ""
             }
            },
            "type": "scatterternary"
           }
          ],
          "surface": [
           {
            "colorbar": {
             "outlinewidth": 0,
             "ticks": ""
            },
            "colorscale": [
             [
              0,
              "#0d0887"
             ],
             [
              0.1111111111111111,
              "#46039f"
             ],
             [
              0.2222222222222222,
              "#7201a8"
             ],
             [
              0.3333333333333333,
              "#9c179e"
             ],
             [
              0.4444444444444444,
              "#bd3786"
             ],
             [
              0.5555555555555556,
              "#d8576b"
             ],
             [
              0.6666666666666666,
              "#ed7953"
             ],
             [
              0.7777777777777778,
              "#fb9f3a"
             ],
             [
              0.8888888888888888,
              "#fdca26"
             ],
             [
              1,
              "#f0f921"
             ]
            ],
            "type": "surface"
           }
          ],
          "table": [
           {
            "cells": {
             "fill": {
              "color": "#EBF0F8"
             },
             "line": {
              "color": "white"
             }
            },
            "header": {
             "fill": {
              "color": "#C8D4E3"
             },
             "line": {
              "color": "white"
             }
            },
            "type": "table"
           }
          ]
         },
         "layout": {
          "annotationdefaults": {
           "arrowcolor": "#2a3f5f",
           "arrowhead": 0,
           "arrowwidth": 1
          },
          "colorscale": {
           "diverging": [
            [
             0,
             "#8e0152"
            ],
            [
             0.1,
             "#c51b7d"
            ],
            [
             0.2,
             "#de77ae"
            ],
            [
             0.3,
             "#f1b6da"
            ],
            [
             0.4,
             "#fde0ef"
            ],
            [
             0.5,
             "#f7f7f7"
            ],
            [
             0.6,
             "#e6f5d0"
            ],
            [
             0.7,
             "#b8e186"
            ],
            [
             0.8,
             "#7fbc41"
            ],
            [
             0.9,
             "#4d9221"
            ],
            [
             1,
             "#276419"
            ]
           ],
           "sequential": [
            [
             0,
             "#0d0887"
            ],
            [
             0.1111111111111111,
             "#46039f"
            ],
            [
             0.2222222222222222,
             "#7201a8"
            ],
            [
             0.3333333333333333,
             "#9c179e"
            ],
            [
             0.4444444444444444,
             "#bd3786"
            ],
            [
             0.5555555555555556,
             "#d8576b"
            ],
            [
             0.6666666666666666,
             "#ed7953"
            ],
            [
             0.7777777777777778,
             "#fb9f3a"
            ],
            [
             0.8888888888888888,
             "#fdca26"
            ],
            [
             1,
             "#f0f921"
            ]
           ],
           "sequentialminus": [
            [
             0,
             "#0d0887"
            ],
            [
             0.1111111111111111,
             "#46039f"
            ],
            [
             0.2222222222222222,
             "#7201a8"
            ],
            [
             0.3333333333333333,
             "#9c179e"
            ],
            [
             0.4444444444444444,
             "#bd3786"
            ],
            [
             0.5555555555555556,
             "#d8576b"
            ],
            [
             0.6666666666666666,
             "#ed7953"
            ],
            [
             0.7777777777777778,
             "#fb9f3a"
            ],
            [
             0.8888888888888888,
             "#fdca26"
            ],
            [
             1,
             "#f0f921"
            ]
           ]
          },
          "colorway": [
           "#636efa",
           "#EF553B",
           "#00cc96",
           "#ab63fa",
           "#FFA15A",
           "#19d3f3",
           "#FF6692",
           "#B6E880",
           "#FF97FF",
           "#FECB52"
          ],
          "font": {
           "color": "#2a3f5f"
          },
          "geo": {
           "bgcolor": "white",
           "lakecolor": "white",
           "landcolor": "#E5ECF6",
           "showlakes": true,
           "showland": true,
           "subunitcolor": "white"
          },
          "hoverlabel": {
           "align": "left"
          },
          "hovermode": "closest",
          "mapbox": {
           "style": "light"
          },
          "paper_bgcolor": "white",
          "plot_bgcolor": "#E5ECF6",
          "polar": {
           "angularaxis": {
            "gridcolor": "white",
            "linecolor": "white",
            "ticks": ""
           },
           "bgcolor": "#E5ECF6",
           "radialaxis": {
            "gridcolor": "white",
            "linecolor": "white",
            "ticks": ""
           }
          },
          "scene": {
           "xaxis": {
            "backgroundcolor": "#E5ECF6",
            "gridcolor": "white",
            "gridwidth": 2,
            "linecolor": "white",
            "showbackground": true,
            "ticks": "",
            "zerolinecolor": "white"
           },
           "yaxis": {
            "backgroundcolor": "#E5ECF6",
            "gridcolor": "white",
            "gridwidth": 2,
            "linecolor": "white",
            "showbackground": true,
            "ticks": "",
            "zerolinecolor": "white"
           },
           "zaxis": {
            "backgroundcolor": "#E5ECF6",
            "gridcolor": "white",
            "gridwidth": 2,
            "linecolor": "white",
            "showbackground": true,
            "ticks": "",
            "zerolinecolor": "white"
           }
          },
          "shapedefaults": {
           "line": {
            "color": "#2a3f5f"
           }
          },
          "ternary": {
           "aaxis": {
            "gridcolor": "white",
            "linecolor": "white",
            "ticks": ""
           },
           "baxis": {
            "gridcolor": "white",
            "linecolor": "white",
            "ticks": ""
           },
           "bgcolor": "#E5ECF6",
           "caxis": {
            "gridcolor": "white",
            "linecolor": "white",
            "ticks": ""
           }
          },
          "title": {
           "x": 0.05
          },
          "xaxis": {
           "automargin": true,
           "gridcolor": "white",
           "linecolor": "white",
           "ticks": "",
           "zerolinecolor": "white",
           "zerolinewidth": 2
          },
          "yaxis": {
           "automargin": true,
           "gridcolor": "white",
           "linecolor": "white",
           "ticks": "",
           "zerolinecolor": "white",
           "zerolinewidth": 2
          }
         }
        },
        "title": {
         "text": "Public Housing Tweets by State<br>(Hover for breakdown)"
        }
       }
      },
      "text/html": [
       "<div>\n",
       "        \n",
       "        \n",
       "            <div id=\"7f15dfeb-efa8-4caf-8cd0-cd6af253e76f\" class=\"plotly-graph-div\" style=\"height:525px; width:100%;\"></div>\n",
       "            <script type=\"text/javascript\">\n",
       "                require([\"plotly\"], function(Plotly) {\n",
       "                    window.PLOTLYENV=window.PLOTLYENV || {};\n",
       "                    \n",
       "                if (document.getElementById(\"7f15dfeb-efa8-4caf-8cd0-cd6af253e76f\")) {\n",
       "                    Plotly.newPlot(\n",
       "                        '7f15dfeb-efa8-4caf-8cd0-cd6af253e76f',\n",
       "                        [{\"autocolorscale\": false, \"colorbar\": {\"title\": {\"text\": \"Number of Tweets\"}}, \"colorscale\": [[0.0, \"rgb(247,251,255)\"], [0.125, \"rgb(222,235,247)\"], [0.25, \"rgb(198,219,239)\"], [0.375, \"rgb(158,202,225)\"], [0.5, \"rgb(107,174,214)\"], [0.625, \"rgb(66,146,198)\"], [0.75, \"rgb(33,113,181)\"], [0.875, \"rgb(8,81,156)\"], [1.0, \"rgb(8,48,107)\"]], \"locationmode\": \"USA-states\", \"locations\": [\"AL\", \"AK\", \"AZ\", \"AR\", \"CA\", \"CO\", \"CT\", \"DE\", \"DC\", \"FL\", \"GA\", \"HI\", \"ID\", \"IL\", \"IN\", \"IA\", \"KS\", \"KY\", \"LA\", \"ME\", \"MT\", \"NE\", \"NV\", \"NH\", \"NJ\", \"NM\", \"NY\", \"NC\", \"ND\", \"OH\", \"OK\", \"OR\", \"MD\", \"MA\", \"MI\", \"MN\", \"MS\", \"MO\", \"PA\", \"RI\", \"SC\", \"SD\", \"TN\", \"TX\", \"UT\", \"VT\", \"VA\", \"WA\", \"WV\", \"WI\", \"WY\"], \"marker\": {\"line\": {\"color\": \"white\"}}, \"text\": [\"AL<br>0 Tweets\", \"AK<br>0 Tweets\", \"AZ<br>4 Tweets\", \"AR<br>0 Tweets\", \"CA<br>32 Tweets\", \"CO<br>0 Tweets\", \"CT<br>7 Tweets\", \"DE<br>0 Tweets\", \"DC<br>68 Tweets\", \"FL<br>16 Tweets\", \"GA<br>7 Tweets\", \"HI<br>1 Tweets\", \"ID<br>1 Tweets\", \"IL<br>7 Tweets\", \"IN<br>2 Tweets\", \"IA<br>4 Tweets\", \"KS<br>3 Tweets\", \"KY<br>5 Tweets\", \"LA<br>2 Tweets\", \"ME<br>3 Tweets\", \"MT<br>0 Tweets\", \"NE<br>0 Tweets\", \"NV<br>0 Tweets\", \"NH<br>2 Tweets\", \"NJ<br>11 Tweets\", \"NM<br>1 Tweets\", \"NY<br>137 Tweets\", \"NC<br>7 Tweets\", \"ND<br>0 Tweets\", \"OH<br>4 Tweets\", \"OK<br>2 Tweets\", \"OR<br>6 Tweets\", \"MD<br>9 Tweets\", \"MA<br>8 Tweets\", \"MI<br>5 Tweets\", \"MN<br>11 Tweets\", \"MS<br>0 Tweets\", \"MO<br>7 Tweets\", \"PA<br>15 Tweets\", \"RI<br>0 Tweets\", \"SC<br>3 Tweets\", \"SD<br>1 Tweets\", \"TN<br>4 Tweets\", \"TX<br>19 Tweets\", \"UT<br>0 Tweets\", \"VT<br>0 Tweets\", \"VA<br>13 Tweets\", \"WA<br>21 Tweets\", \"WV<br>0 Tweets\", \"WI<br>5 Tweets\", \"WY<br>0 Tweets\"], \"type\": \"choropleth\", \"z\": [0.0, 0.0, 4.0, 0.0, 32.0, 0.0, 7.0, 0.0, 68.0, 16.0, 7.0, 1.0, 1.0, 7.0, 2.0, 4.0, 3.0, 5.0, 2.0, 3.0, 0.0, 0.0, 0.0, 2.0, 11.0, 1.0, 137.0, 7.0, 0.0, 4.0, 2.0, 6.0, 9.0, 8.0, 5.0, 11.0, 0.0, 7.0, 15.0, 0.0, 3.0, 1.0, 4.0, 19.0, 0.0, 0.0, 13.0, 21.0, 0.0, 5.0, 0.0]}],\n",
       "                        {\"geo\": {\"lakecolor\": \"rgb(255, 255, 255)\", \"projection\": {\"type\": \"albers usa\"}, \"scope\": \"usa\", \"showlakes\": true}, \"template\": {\"data\": {\"bar\": [{\"error_x\": {\"color\": \"#2a3f5f\"}, \"error_y\": {\"color\": \"#2a3f5f\"}, \"marker\": {\"line\": {\"color\": \"#E5ECF6\", \"width\": 0.5}}, \"type\": \"bar\"}], \"barpolar\": [{\"marker\": {\"line\": {\"color\": \"#E5ECF6\", \"width\": 0.5}}, \"type\": \"barpolar\"}], \"carpet\": [{\"aaxis\": {\"endlinecolor\": \"#2a3f5f\", \"gridcolor\": \"white\", \"linecolor\": \"white\", \"minorgridcolor\": \"white\", \"startlinecolor\": \"#2a3f5f\"}, \"baxis\": {\"endlinecolor\": \"#2a3f5f\", \"gridcolor\": \"white\", \"linecolor\": \"white\", \"minorgridcolor\": \"white\", \"startlinecolor\": \"#2a3f5f\"}, \"type\": \"carpet\"}], \"choropleth\": [{\"colorbar\": {\"outlinewidth\": 0, \"ticks\": \"\"}, \"type\": \"choropleth\"}], \"contour\": [{\"colorbar\": {\"outlinewidth\": 0, \"ticks\": \"\"}, \"colorscale\": [[0.0, \"#0d0887\"], [0.1111111111111111, \"#46039f\"], [0.2222222222222222, \"#7201a8\"], [0.3333333333333333, \"#9c179e\"], [0.4444444444444444, \"#bd3786\"], [0.5555555555555556, \"#d8576b\"], [0.6666666666666666, \"#ed7953\"], [0.7777777777777778, \"#fb9f3a\"], [0.8888888888888888, \"#fdca26\"], [1.0, \"#f0f921\"]], \"type\": \"contour\"}], \"contourcarpet\": [{\"colorbar\": {\"outlinewidth\": 0, \"ticks\": \"\"}, \"type\": \"contourcarpet\"}], \"heatmap\": [{\"colorbar\": {\"outlinewidth\": 0, \"ticks\": \"\"}, \"colorscale\": [[0.0, \"#0d0887\"], [0.1111111111111111, \"#46039f\"], [0.2222222222222222, \"#7201a8\"], [0.3333333333333333, \"#9c179e\"], [0.4444444444444444, \"#bd3786\"], [0.5555555555555556, \"#d8576b\"], [0.6666666666666666, \"#ed7953\"], [0.7777777777777778, \"#fb9f3a\"], [0.8888888888888888, \"#fdca26\"], [1.0, \"#f0f921\"]], \"type\": \"heatmap\"}], \"heatmapgl\": [{\"colorbar\": {\"outlinewidth\": 0, \"ticks\": \"\"}, \"colorscale\": [[0.0, \"#0d0887\"], [0.1111111111111111, \"#46039f\"], [0.2222222222222222, \"#7201a8\"], [0.3333333333333333, \"#9c179e\"], [0.4444444444444444, \"#bd3786\"], [0.5555555555555556, \"#d8576b\"], [0.6666666666666666, \"#ed7953\"], [0.7777777777777778, \"#fb9f3a\"], [0.8888888888888888, \"#fdca26\"], [1.0, \"#f0f921\"]], \"type\": \"heatmapgl\"}], \"histogram\": [{\"marker\": {\"colorbar\": {\"outlinewidth\": 0, \"ticks\": \"\"}}, \"type\": \"histogram\"}], \"histogram2d\": [{\"colorbar\": {\"outlinewidth\": 0, \"ticks\": \"\"}, \"colorscale\": [[0.0, \"#0d0887\"], [0.1111111111111111, \"#46039f\"], [0.2222222222222222, \"#7201a8\"], [0.3333333333333333, \"#9c179e\"], [0.4444444444444444, \"#bd3786\"], [0.5555555555555556, \"#d8576b\"], [0.6666666666666666, \"#ed7953\"], [0.7777777777777778, \"#fb9f3a\"], [0.8888888888888888, \"#fdca26\"], [1.0, \"#f0f921\"]], \"type\": \"histogram2d\"}], \"histogram2dcontour\": [{\"colorbar\": {\"outlinewidth\": 0, \"ticks\": \"\"}, \"colorscale\": [[0.0, \"#0d0887\"], [0.1111111111111111, \"#46039f\"], [0.2222222222222222, \"#7201a8\"], [0.3333333333333333, \"#9c179e\"], [0.4444444444444444, \"#bd3786\"], [0.5555555555555556, \"#d8576b\"], [0.6666666666666666, \"#ed7953\"], [0.7777777777777778, \"#fb9f3a\"], [0.8888888888888888, \"#fdca26\"], [1.0, \"#f0f921\"]], \"type\": \"histogram2dcontour\"}], \"mesh3d\": [{\"colorbar\": {\"outlinewidth\": 0, \"ticks\": \"\"}, \"type\": \"mesh3d\"}], \"parcoords\": [{\"line\": {\"colorbar\": {\"outlinewidth\": 0, \"ticks\": \"\"}}, \"type\": \"parcoords\"}], \"scatter\": [{\"marker\": {\"colorbar\": {\"outlinewidth\": 0, \"ticks\": \"\"}}, \"type\": \"scatter\"}], \"scatter3d\": [{\"line\": {\"colorbar\": {\"outlinewidth\": 0, \"ticks\": \"\"}}, \"marker\": {\"colorbar\": {\"outlinewidth\": 0, \"ticks\": \"\"}}, \"type\": \"scatter3d\"}], \"scattercarpet\": [{\"marker\": {\"colorbar\": {\"outlinewidth\": 0, \"ticks\": \"\"}}, \"type\": \"scattercarpet\"}], \"scattergeo\": [{\"marker\": {\"colorbar\": {\"outlinewidth\": 0, \"ticks\": \"\"}}, \"type\": \"scattergeo\"}], \"scattergl\": [{\"marker\": {\"colorbar\": {\"outlinewidth\": 0, \"ticks\": \"\"}}, \"type\": \"scattergl\"}], \"scattermapbox\": [{\"marker\": {\"colorbar\": {\"outlinewidth\": 0, \"ticks\": \"\"}}, \"type\": \"scattermapbox\"}], \"scatterpolar\": [{\"marker\": {\"colorbar\": {\"outlinewidth\": 0, \"ticks\": \"\"}}, \"type\": \"scatterpolar\"}], \"scatterpolargl\": [{\"marker\": {\"colorbar\": {\"outlinewidth\": 0, \"ticks\": \"\"}}, \"type\": \"scatterpolargl\"}], \"scatterternary\": [{\"marker\": {\"colorbar\": {\"outlinewidth\": 0, \"ticks\": \"\"}}, \"type\": \"scatterternary\"}], \"surface\": [{\"colorbar\": {\"outlinewidth\": 0, \"ticks\": \"\"}, \"colorscale\": [[0.0, \"#0d0887\"], [0.1111111111111111, \"#46039f\"], [0.2222222222222222, \"#7201a8\"], [0.3333333333333333, \"#9c179e\"], [0.4444444444444444, \"#bd3786\"], [0.5555555555555556, \"#d8576b\"], [0.6666666666666666, \"#ed7953\"], [0.7777777777777778, \"#fb9f3a\"], [0.8888888888888888, \"#fdca26\"], [1.0, \"#f0f921\"]], \"type\": \"surface\"}], \"table\": [{\"cells\": {\"fill\": {\"color\": \"#EBF0F8\"}, \"line\": {\"color\": \"white\"}}, \"header\": {\"fill\": {\"color\": \"#C8D4E3\"}, \"line\": {\"color\": \"white\"}}, \"type\": \"table\"}]}, \"layout\": {\"annotationdefaults\": {\"arrowcolor\": \"#2a3f5f\", \"arrowhead\": 0, \"arrowwidth\": 1}, \"colorscale\": {\"diverging\": [[0, \"#8e0152\"], [0.1, \"#c51b7d\"], [0.2, \"#de77ae\"], [0.3, \"#f1b6da\"], [0.4, \"#fde0ef\"], [0.5, \"#f7f7f7\"], [0.6, \"#e6f5d0\"], [0.7, \"#b8e186\"], [0.8, \"#7fbc41\"], [0.9, \"#4d9221\"], [1, \"#276419\"]], \"sequential\": [[0.0, \"#0d0887\"], [0.1111111111111111, \"#46039f\"], [0.2222222222222222, \"#7201a8\"], [0.3333333333333333, \"#9c179e\"], [0.4444444444444444, \"#bd3786\"], [0.5555555555555556, \"#d8576b\"], [0.6666666666666666, \"#ed7953\"], [0.7777777777777778, \"#fb9f3a\"], [0.8888888888888888, \"#fdca26\"], [1.0, \"#f0f921\"]], \"sequentialminus\": [[0.0, \"#0d0887\"], [0.1111111111111111, \"#46039f\"], [0.2222222222222222, \"#7201a8\"], [0.3333333333333333, \"#9c179e\"], [0.4444444444444444, \"#bd3786\"], [0.5555555555555556, \"#d8576b\"], [0.6666666666666666, \"#ed7953\"], [0.7777777777777778, \"#fb9f3a\"], [0.8888888888888888, \"#fdca26\"], [1.0, \"#f0f921\"]]}, \"colorway\": [\"#636efa\", \"#EF553B\", \"#00cc96\", \"#ab63fa\", \"#FFA15A\", \"#19d3f3\", \"#FF6692\", \"#B6E880\", \"#FF97FF\", \"#FECB52\"], \"font\": {\"color\": \"#2a3f5f\"}, \"geo\": {\"bgcolor\": \"white\", \"lakecolor\": \"white\", \"landcolor\": \"#E5ECF6\", \"showlakes\": true, \"showland\": true, \"subunitcolor\": \"white\"}, \"hoverlabel\": {\"align\": \"left\"}, \"hovermode\": \"closest\", \"mapbox\": {\"style\": \"light\"}, \"paper_bgcolor\": \"white\", \"plot_bgcolor\": \"#E5ECF6\", \"polar\": {\"angularaxis\": {\"gridcolor\": \"white\", \"linecolor\": \"white\", \"ticks\": \"\"}, \"bgcolor\": \"#E5ECF6\", \"radialaxis\": {\"gridcolor\": \"white\", \"linecolor\": \"white\", \"ticks\": \"\"}}, \"scene\": {\"xaxis\": {\"backgroundcolor\": \"#E5ECF6\", \"gridcolor\": \"white\", \"gridwidth\": 2, \"linecolor\": \"white\", \"showbackground\": true, \"ticks\": \"\", \"zerolinecolor\": \"white\"}, \"yaxis\": {\"backgroundcolor\": \"#E5ECF6\", \"gridcolor\": \"white\", \"gridwidth\": 2, \"linecolor\": \"white\", \"showbackground\": true, \"ticks\": \"\", \"zerolinecolor\": \"white\"}, \"zaxis\": {\"backgroundcolor\": \"#E5ECF6\", \"gridcolor\": \"white\", \"gridwidth\": 2, \"linecolor\": \"white\", \"showbackground\": true, \"ticks\": \"\", \"zerolinecolor\": \"white\"}}, \"shapedefaults\": {\"line\": {\"color\": \"#2a3f5f\"}}, \"ternary\": {\"aaxis\": {\"gridcolor\": \"white\", \"linecolor\": \"white\", \"ticks\": \"\"}, \"baxis\": {\"gridcolor\": \"white\", \"linecolor\": \"white\", \"ticks\": \"\"}, \"bgcolor\": \"#E5ECF6\", \"caxis\": {\"gridcolor\": \"white\", \"linecolor\": \"white\", \"ticks\": \"\"}}, \"title\": {\"x\": 0.05}, \"xaxis\": {\"automargin\": true, \"gridcolor\": \"white\", \"linecolor\": \"white\", \"ticks\": \"\", \"zerolinecolor\": \"white\", \"zerolinewidth\": 2}, \"yaxis\": {\"automargin\": true, \"gridcolor\": \"white\", \"linecolor\": \"white\", \"ticks\": \"\", \"zerolinecolor\": \"white\", \"zerolinewidth\": 2}}}, \"title\": {\"text\": \"Public Housing Tweets by State<br>(Hover for breakdown)\"}},\n",
       "                        {\"responsive\": true}\n",
       "                    ).then(function(){\n",
       "                            \n",
       "var gd = document.getElementById('7f15dfeb-efa8-4caf-8cd0-cd6af253e76f');\n",
       "var x = new MutationObserver(function (mutations, observer) {{\n",
       "        var display = window.getComputedStyle(gd).display;\n",
       "        if (!display || display === 'none') {{\n",
       "            console.log([gd, 'removed!']);\n",
       "            Plotly.purge(gd);\n",
       "            observer.disconnect();\n",
       "        }}\n",
       "}});\n",
       "\n",
       "// Listen for the removal of the full notebook cells\n",
       "var notebookContainer = gd.closest('#notebook-container');\n",
       "if (notebookContainer) {{\n",
       "    x.observe(notebookContainer, {childList: true});\n",
       "}}\n",
       "\n",
       "// Listen for the clearing of the current output cell\n",
       "var outputEl = gd.closest('.output');\n",
       "if (outputEl) {{\n",
       "    x.observe(outputEl, {childList: true});\n",
       "}}\n",
       "\n",
       "                        })\n",
       "                };\n",
       "                });\n",
       "            </script>\n",
       "        </div>"
      ]
     },
     "metadata": {},
     "output_type": "display_data"
    }
   ],
   "source": [
    "for col in df.columns:\n",
    "    df[col] = df[col].astype(str)\n",
    "\n",
    "df['text'] = df['Abbreviation'] + '<br>' + \\\n",
    "    df['count'] + ' Tweets' \n",
    "\n",
    "fig = go.Figure(\n",
    "    data=go.Choropleth(\n",
    "        locations=df['Abbreviation'],\n",
    "        z=df['count'].astype(float),\n",
    "        locationmode='USA-states',\n",
    "        colorscale='Blues',\n",
    "        autocolorscale=False,\n",
    "        text=df['text'], # hover text\n",
    "        marker_line_color='white', # line markers between states\n",
    "        colorbar_title=\"Number of Tweets\"\n",
    "))\n",
    "\n",
    "fig.update_layout(\n",
    "    title_text='Public Housing Tweets by State<br>(Hover for breakdown)',\n",
    "    geo = dict(\n",
    "        scope='usa',\n",
    "        projection=go.layout.geo.Projection(type = 'albers usa'),\n",
    "        showlakes=True, # lakes\n",
    "        lakecolor='rgb(255, 255, 255)'),\n",
    ")\n",
    "\n",
    "fig.show()\n"
   ]
  },
  {
   "cell_type": "code",
   "execution_count": 2,
   "metadata": {},
   "outputs": [
    {
     "data": {
      "text/plain": [
       "<bound method NDFrame.head of    code           state category total exports   beef    pork poultry   dairy  \\\n",
       "0    AL         Alabama    state       1390.63   34.4    10.6   481.0    4.06   \n",
       "1    AK          Alaska    state         13.31    0.2     0.1     0.0    0.19   \n",
       "2    AZ         Arizona    state       1463.17   71.3    17.9     0.0  105.48   \n",
       "3    AR        Arkansas    state       3586.02   53.2    29.4   562.9    3.53   \n",
       "4    CA      California    state      16472.88  228.7    11.1   225.4  929.95   \n",
       "5    CO        Colorado    state       1851.33  261.4    66.0    14.0   71.94   \n",
       "6    CT     Connecticut    state        259.62    1.1     0.1     6.9    9.49   \n",
       "7    DE        Delaware    state        282.19    0.4     0.6   114.7     2.3   \n",
       "8    FL         Florida    state       3764.09   42.6     0.9    56.9   66.31   \n",
       "9    GA         Georgia    state       2860.84   31.0    18.9   630.4   38.38   \n",
       "10   HI          Hawaii    state        401.84    4.0     0.7     1.3    1.16   \n",
       "11   ID           Idaho    state       2078.89  119.8     0.0     2.4   294.6   \n",
       "12   IL        Illinois    state       8709.48   53.7   394.0    14.0   45.82   \n",
       "13   IN         Indiana    state       5050.23   21.9   341.9   165.6    89.7   \n",
       "14   IA            Iowa    state      11273.76  289.8  1895.6   155.6   107.0   \n",
       "15   KS          Kansas    state       4589.01  659.3   179.4     6.4   65.45   \n",
       "16   KY        Kentucky    state       1889.15   54.8    34.2   151.3   28.27   \n",
       "17   LA       Louisiana    state       1914.23   19.8     0.8    77.2    6.02   \n",
       "18   ME           Maine    state        278.37    1.4     0.5    10.4   16.18   \n",
       "19   MD        Maryland    state        692.75    5.6     3.1   127.0   24.81   \n",
       "20   MA   Massachusetts    state        248.65    0.6     0.5     0.6    5.81   \n",
       "21   MI        Michigan    state       3164.16   37.7   118.1    32.6  214.82   \n",
       "22   MN       Minnesota    state       7192.33  112.3   740.4   189.2  218.05   \n",
       "23   MS     Mississippi    state        2170.8   12.8    30.4   370.8    5.45   \n",
       "24   MO        Missouri    state       3933.42  137.2   277.3   196.1   34.26   \n",
       "25   MT         Montana    state        1718.0  105.0    16.7     1.7    6.82   \n",
       "26   NE        Nebraska    state       7114.13  762.2   262.5    31.4   30.07   \n",
       "27   NV          Nevada    state        139.89   21.8     0.2     0.0   16.57   \n",
       "28   NH   New Hampshire    state         73.06    0.6     0.2     0.8    7.46   \n",
       "29   NJ      New Jersey    state         500.4    0.8     0.4     4.6    3.37   \n",
       "30   NM      New Mexico    state        751.58  117.2     0.1     0.3  191.01   \n",
       "31   NY        New York    state        1488.9   22.2     5.8    17.7   331.8   \n",
       "32   NC  North Carolina    state       3806.05   24.8   702.8   598.4    24.9   \n",
       "33   ND    North Dakota    state       3761.96   78.5    16.1     0.5    8.14   \n",
       "34   OH            Ohio    state       3979.79   36.2   199.1   129.9  134.57   \n",
       "35   OK        Oklahoma    state       1646.41  337.6   265.3   131.1   24.35   \n",
       "36   OR          Oregon    state       1794.57   58.8     1.4    14.2   63.66   \n",
       "37   PA    Pennsylvania    state       1969.87   50.9    91.3   169.8  280.87   \n",
       "38   RI    Rhode Island    state         31.59    0.1     0.1     0.2    0.52   \n",
       "39   SC  South Carolina    state        929.93   15.2    10.9   186.5    7.62   \n",
       "40   SD    South Dakota    state       3770.19  193.5   160.2    29.3   46.77   \n",
       "41   TN       Tennessee    state       1535.13   51.1    17.6    82.4   21.18   \n",
       "42   TX           Texas    state       6648.22  961.0    42.7   339.2  240.55   \n",
       "43   UT            Utah    state        453.39   27.9    59.0    23.1    48.6   \n",
       "44   VT         Vermont    state        180.14    6.2     0.2     0.9   65.98   \n",
       "45   VA        Virginia    state       1146.48   39.5    16.9   164.7   47.85   \n",
       "46   WA      Washington    state       3894.81   59.2     0.0    35.6  154.18   \n",
       "47   WV   West Virginia    state        138.89   12.0     0.3    45.4     3.9   \n",
       "48   WI       Wisconsin    state       3090.23  107.3    38.6    34.5   633.6   \n",
       "49   WY         Wyoming    state        349.69   75.1    33.2     0.1    2.89   \n",
       "\n",
       "   fruits fresh fruits proc total fruits veggies fresh veggies proc  \\\n",
       "0           8.0        17.1        25.11           5.5          8.9   \n",
       "1           0.0         0.0          0.0           0.6          1.0   \n",
       "2          19.3        41.0        60.27         147.5        239.4   \n",
       "3           2.2         4.7         6.88           4.4          7.1   \n",
       "4        2791.8      5944.6       8736.4         803.2       1303.5   \n",
       "5           5.7        12.2        17.99          45.1         73.2   \n",
       "6           4.2         8.9         13.1           4.3          6.9   \n",
       "7           0.5         1.0         1.53           7.6         12.4   \n",
       "8         438.2       933.1      1371.36         171.9        279.0   \n",
       "9          74.6       158.9       233.51          59.0         95.8   \n",
       "10         17.7        37.8        55.51           9.5         15.4   \n",
       "11          6.9        14.7        21.64         121.7        197.5   \n",
       "12          4.0         8.5        12.53          15.2         24.7   \n",
       "13          4.1         8.8        12.98          14.4         23.4   \n",
       "14          1.0         2.2         3.24           2.7          4.4   \n",
       "15          1.0         2.1         3.11           3.6          5.8   \n",
       "16          2.1         4.5          6.6           0.0          0.0   \n",
       "17          5.7        12.1        17.83           6.6         10.7   \n",
       "18         16.6        35.4        52.01          24.0         38.9   \n",
       "19          4.1         8.8         12.9           7.8         12.6   \n",
       "20         25.8        55.0        80.83           8.1         13.1   \n",
       "21         82.3       175.3       257.69          72.4        117.5   \n",
       "22          2.5         5.4         7.91          45.9         74.5   \n",
       "23          5.4        11.6        17.04          10.6         17.2   \n",
       "24          4.2         9.0        13.18           6.8         11.1   \n",
       "25          1.1         2.2          3.3          17.3         28.0   \n",
       "26          0.7         1.5         2.16          20.4         33.1   \n",
       "27          0.4         0.8         1.19          10.6         17.3   \n",
       "28          2.6         5.4         7.98           1.7          2.8   \n",
       "29         35.0        74.5       109.45          21.6         35.0   \n",
       "30         32.6        69.3        101.9          16.7         27.1   \n",
       "31         64.7       137.8       202.56          54.7         88.7   \n",
       "32         23.8        50.7        74.47          57.4         93.1   \n",
       "33          0.1         0.2         0.25          49.9         80.9   \n",
       "34          8.7        18.5        27.21          20.4         33.1   \n",
       "35          3.0         6.3         9.24           3.4          5.5   \n",
       "36        100.7       214.4       315.04          48.2         78.3   \n",
       "37         28.6        60.9        89.48          14.6         23.7   \n",
       "38          0.9         1.9         2.83           1.2          1.9   \n",
       "39         17.1        36.4        53.45          16.3         26.4   \n",
       "40          0.3         0.5          0.8           1.5          2.5   \n",
       "41          2.0         4.2         6.23           9.4         15.3   \n",
       "42         31.9        68.0         99.9          43.9         71.3   \n",
       "43          3.9         8.4        12.34           2.5          4.1   \n",
       "44          2.6         5.4         8.01           1.5          2.5   \n",
       "45         11.7        24.8        36.48          10.4         16.9   \n",
       "46        555.6      1183.0      1738.57         138.7        225.1   \n",
       "47          3.7         7.9        11.54           0.0          0.0   \n",
       "48         42.8        91.0        133.8          56.8         92.2   \n",
       "49          0.1         0.1         0.17           3.9          6.3   \n",
       "\n",
       "   total veggies    corn   wheat   cotton  \\\n",
       "0          14.33    34.9    70.0   317.61   \n",
       "1           1.56     0.0     0.0      0.0   \n",
       "2         386.91     7.3    48.7   423.95   \n",
       "3          11.45    69.5   114.5   665.44   \n",
       "4        2106.79    34.6   249.3  1064.95   \n",
       "5         118.27   183.2   400.5      0.0   \n",
       "6          11.16     0.0     0.0      0.0   \n",
       "7          20.03    26.9    22.9      0.0   \n",
       "8         450.86     3.5     1.8    78.24   \n",
       "9         154.77    57.8    65.4  1154.07   \n",
       "10         24.83     0.0     0.0      0.0   \n",
       "11        319.19    24.0   568.2      0.0   \n",
       "12         39.95  2228.5   223.8      0.0   \n",
       "13         37.89  1123.2   114.0      0.0   \n",
       "14           7.1  2529.8     3.1      0.0   \n",
       "15          9.32   457.3  1426.5    43.98   \n",
       "16           0.0   179.1   149.3      0.0   \n",
       "17         17.25    91.4    78.7   280.42   \n",
       "18          62.9     0.0     0.0      0.0   \n",
       "19         20.43    54.1    55.8      0.0   \n",
       "20         21.13     0.0     0.0      0.0   \n",
       "21        189.96   381.5   247.0      0.0   \n",
       "22        120.37  1264.3   538.1      0.0   \n",
       "23         27.87   110.0   102.2   494.75   \n",
       "24          17.9   428.8   161.7   345.29   \n",
       "25         45.27     5.4  1198.1      0.0   \n",
       "26          53.5  1735.9   292.3      0.0   \n",
       "27         27.93     0.0     5.4      0.0   \n",
       "28           4.5     0.0     0.0      0.0   \n",
       "29         56.54    10.1     6.7      0.0   \n",
       "30         43.88    11.2    13.9    72.62   \n",
       "31        143.37   106.1    29.9      0.0   \n",
       "32        150.45    92.2   200.3   470.86   \n",
       "33        130.79   236.1  1664.5      0.0   \n",
       "34         53.53   535.1   207.4      0.0   \n",
       "35           8.9    27.5   324.8   110.54   \n",
       "36         126.5    11.7   320.3      0.0   \n",
       "37         38.26   112.1    41.0      0.0   \n",
       "38          3.02     0.0     0.0      0.0   \n",
       "39         42.66    32.1    55.3    206.1   \n",
       "40          4.06   643.6   704.5      0.0   \n",
       "41         24.67    88.8   100.0   363.83   \n",
       "42        115.23   167.2   309.7  2308.76   \n",
       "43           6.6     5.3    42.8      0.0   \n",
       "44          4.05     0.0     0.0      0.0   \n",
       "45         27.25    39.5    77.5    64.84   \n",
       "46        363.79    29.5   786.3      0.0   \n",
       "47           0.0     3.5     1.6      0.0   \n",
       "48        148.99   460.5    96.7      0.0   \n",
       "49         10.23     9.0    20.7      0.0   \n",
       "\n",
       "                                                 text  \n",
       "0   Alabama<br>Beef 34.4 Dairy 4.06<br>Fruits 25.1...  \n",
       "1   Alaska<br>Beef 0.2 Dairy 0.19<br>Fruits 0.0 Ve...  \n",
       "2   Arizona<br>Beef 71.3 Dairy 105.48<br>Fruits 60...  \n",
       "3   Arkansas<br>Beef 53.2 Dairy 3.53<br>Fruits 6.8...  \n",
       "4   California<br>Beef 228.7 Dairy 929.95<br>Fruit...  \n",
       "5   Colorado<br>Beef 261.4 Dairy 71.94<br>Fruits 1...  \n",
       "6   Connecticut<br>Beef 1.1 Dairy 9.49<br>Fruits 1...  \n",
       "7   Delaware<br>Beef 0.4 Dairy 2.3<br>Fruits 1.53 ...  \n",
       "8   Florida<br>Beef 42.6 Dairy 66.31<br>Fruits 137...  \n",
       "9   Georgia<br>Beef 31.0 Dairy 38.38<br>Fruits 233...  \n",
       "10  Hawaii<br>Beef 4.0 Dairy 1.16<br>Fruits 55.51 ...  \n",
       "11  Idaho<br>Beef 119.8 Dairy 294.6<br>Fruits 21.6...  \n",
       "12  Illinois<br>Beef 53.7 Dairy 45.82<br>Fruits 12...  \n",
       "13  Indiana<br>Beef 21.9 Dairy 89.7<br>Fruits 12.9...  \n",
       "14  Iowa<br>Beef 289.8 Dairy 107.0<br>Fruits 3.24 ...  \n",
       "15  Kansas<br>Beef 659.3 Dairy 65.45<br>Fruits 3.1...  \n",
       "16  Kentucky<br>Beef 54.8 Dairy 28.27<br>Fruits 6....  \n",
       "17  Louisiana<br>Beef 19.8 Dairy 6.02<br>Fruits 17...  \n",
       "18  Maine<br>Beef 1.4 Dairy 16.18<br>Fruits 52.01 ...  \n",
       "19  Maryland<br>Beef 5.6 Dairy 24.81<br>Fruits 12....  \n",
       "20  Massachusetts<br>Beef 0.6 Dairy 5.81<br>Fruits...  \n",
       "21  Michigan<br>Beef 37.7 Dairy 214.82<br>Fruits 2...  \n",
       "22  Minnesota<br>Beef 112.3 Dairy 218.05<br>Fruits...  \n",
       "23  Mississippi<br>Beef 12.8 Dairy 5.45<br>Fruits ...  \n",
       "24  Missouri<br>Beef 137.2 Dairy 34.26<br>Fruits 1...  \n",
       "25  Montana<br>Beef 105.0 Dairy 6.82<br>Fruits 3.3...  \n",
       "26  Nebraska<br>Beef 762.2 Dairy 30.07<br>Fruits 2...  \n",
       "27  Nevada<br>Beef 21.8 Dairy 16.57<br>Fruits 1.19...  \n",
       "28  New Hampshire<br>Beef 0.6 Dairy 7.46<br>Fruits...  \n",
       "29  New Jersey<br>Beef 0.8 Dairy 3.37<br>Fruits 10...  \n",
       "30  New Mexico<br>Beef 117.2 Dairy 191.01<br>Fruit...  \n",
       "31  New York<br>Beef 22.2 Dairy 331.8<br>Fruits 20...  \n",
       "32  North Carolina<br>Beef 24.8 Dairy 24.9<br>Frui...  \n",
       "33  North Dakota<br>Beef 78.5 Dairy 8.14<br>Fruits...  \n",
       "34  Ohio<br>Beef 36.2 Dairy 134.57<br>Fruits 27.21...  \n",
       "35  Oklahoma<br>Beef 337.6 Dairy 24.35<br>Fruits 9...  \n",
       "36  Oregon<br>Beef 58.8 Dairy 63.66<br>Fruits 315....  \n",
       "37  Pennsylvania<br>Beef 50.9 Dairy 280.87<br>Frui...  \n",
       "38  Rhode Island<br>Beef 0.1 Dairy 0.52<br>Fruits ...  \n",
       "39  South Carolina<br>Beef 15.2 Dairy 7.62<br>Frui...  \n",
       "40  South Dakota<br>Beef 193.5 Dairy 46.77<br>Frui...  \n",
       "41  Tennessee<br>Beef 51.1 Dairy 21.18<br>Fruits 6...  \n",
       "42  Texas<br>Beef 961.0 Dairy 240.55<br>Fruits 99....  \n",
       "43  Utah<br>Beef 27.9 Dairy 48.6<br>Fruits 12.34 V...  \n",
       "44  Vermont<br>Beef 6.2 Dairy 65.98<br>Fruits 8.01...  \n",
       "45  Virginia<br>Beef 39.5 Dairy 47.85<br>Fruits 36...  \n",
       "46  Washington<br>Beef 59.2 Dairy 154.18<br>Fruits...  \n",
       "47  West Virginia<br>Beef 12.0 Dairy 3.9<br>Fruits...  \n",
       "48  Wisconsin<br>Beef 107.3 Dairy 633.6<br>Fruits ...  \n",
       "49  Wyoming<br>Beef 75.1 Dairy 2.89<br>Fruits 0.17...  >"
      ]
     },
     "execution_count": 2,
     "metadata": {},
     "output_type": "execute_result"
    }
   ],
   "source": [
    "df.head"
   ]
  },
  {
   "cell_type": "code",
   "execution_count": null,
   "metadata": {},
   "outputs": [],
   "source": []
  }
 ],
 "metadata": {
  "kernelspec": {
   "display_name": "Python 3",
   "language": "python",
   "name": "python3"
  },
  "language_info": {
   "codemirror_mode": {
    "name": "ipython",
    "version": 3
   },
   "file_extension": ".py",
   "mimetype": "text/x-python",
   "name": "python",
   "nbconvert_exporter": "python",
   "pygments_lexer": "ipython3",
   "version": "3.7.3"
  }
 },
 "nbformat": 4,
 "nbformat_minor": 2
}
