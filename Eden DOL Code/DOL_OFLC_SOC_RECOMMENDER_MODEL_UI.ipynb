{
 "cells": [
  {
   "cell_type": "markdown",
   "metadata": {},
   "source": [
    "# EDEN NOTEBOOK # 4: SOC Code Recommender Model Generator\n",
    "\n",
    "## Welcome note:\n",
    "\n",
    "Wecome to the **SOC Code Recommender Model Generator!** The contents of this notebook will lead the user through the training and pickling of the SOC Code Recommender Model using a Naive Bayes classifier with a count vector as our features. \n",
    "\n",
    "#### What are Count Vectors as features?\n",
    "Count Vector is a matrix notation of the dataset in which every row represents a document from the corpus, every column represents a term from the corpus, and every cell represents the frequency count of a particular term in a particular document."
   ]
  },
  {
   "cell_type": "markdown",
   "metadata": {},
   "source": [
    "### Refresh the model if you need to"
   ]
  },
  {
   "cell_type": "code",
   "execution_count": null,
   "metadata": {},
   "outputs": [],
   "source": [
    "%time\n",
    "%run ./SOC_Code_Recommended_Final_Model_Production.ipynb"
   ]
  },
  {
   "cell_type": "markdown",
   "metadata": {},
   "source": [
    "### Load the SOC Recommender algorithim and classify cases"
   ]
  },
  {
   "cell_type": "code",
   "execution_count": 1,
   "metadata": {},
   "outputs": [
    {
     "name": "stdout",
     "output_type": "stream",
     "text": [
      "All libraries were successfully imported\n",
      " \n",
      "Job description data was successfully imported\n",
      "Wall time: 100 ms\n",
      "Wall time: 0 ns\n",
      " \n",
      "SOC labels were successfully imported\n",
      " \n",
      "Job Description data was successfully cleaned\n",
      "Wall time: 1.61 s\n",
      "Wall time: 0 ns\n",
      " \n",
      "The model's vectorizor was successfully imported\n",
      " \n",
      "Job description data was successfully vectorized\n",
      "Wall time: 0 ns\n",
      " \n",
      "The model was successfully loaded\n",
      " \n",
      "Your results are now ready!\n",
      "They can be accesed by calling on the dataframe 'results' or by simply typing query_results()\n",
      "into the cell below to search for a particular case number\n"
     ]
    }
   ],
   "source": [
    "%run ./DOL_OFLC_SOC_RECOMMENDER_MODEL_IMPLEMENTATION.ipynb"
   ]
  },
  {
   "cell_type": "markdown",
   "metadata": {},
   "source": [
    "### Search and print examples of results"
   ]
  },
  {
   "cell_type": "code",
   "execution_count": 4,
   "metadata": {},
   "outputs": [
    {
     "name": "stdout",
     "output_type": "stream",
     "text": [
      " \n",
      "Hi!\n",
      " \n",
      "Welcome to the SOC Code Recommender!\n",
      " \n",
      "Please enter the case number you would like to search for: (ex: 'P-100-18274-358108')3\n",
      " \n",
      "Thank you!\n",
      "\u001b[1m\u001b[94mCase Number:\u001b[0m P-100-18239-726517\n",
      "\n",
      "\u001b[1m\u001b[94mJob Title::\u001b[0m Analysis and Reporting Senior Analyst\n",
      "\n",
      "\u001b[1m\u001b[94mSOC Code Recommended by OFLC Analyst:\u001b[0m 15-2041.00  -  Statisticians\n",
      "\n",
      "\n",
      "\u001b[1m\u001b[94mJob Duties:\u001b[0m\n",
      "\n",
      "Design, develop, modify, debug and evaluate SAS data management programs to support CFG's Consumer Accounting department in its efforts to manage accounting-related information. Deliver high quality data management projects to produce a wide variety of data structures, reporting and automation using SAS. Work closely with Business Systems Analysts and Data Reporting Manager to develop conversion and system implementation plans. Perform systems analysis and data warehousing of large complex data sets utilizing SAS and SQL programming languages. Gather business and data requirements and transform into Visio workflows mapped to and implemented in designated applications/solutions, including user requirements documents, solutions development and acceptance testing for data analytics projects. Write SQL queries to analyze large data stores for consolidation and input into logical data models and developing conceptual data models using Visio. Utilize advanced knowledge of SAS ETL infrastructure, implementation and maintenance to extract/transfer/load data from legacy systems into updated systems. Ensure proper documenting of objectives, use cases, requirements, stories, workflows, and product specifications, as well as related impact and gap analyses. Analyze existing programs and formulate logic for new systems. Devise logic procedures, prepare flowcharting, and perform coding, testing, and debugging of programs. Evaluate and review code to identify opportunities for consolidation or improvement. Recommend changes in development, maintenance, and system standards to ensure that data management systems and tools are effective, efficient and accurate. Develop documents to explain process flow, complexity, and process logic of the custom interfaces and provided SQL queries to assist in daily operations.\n",
      "\n",
      "\u001b[1m\u001b[94mTop 5 SOC Codes Recommended by Model:\u001b[0m\n",
      "\n",
      "1.  \u001b[1m151132.\u001b[0m :  Software Developers, Applications\n",
      "2.  \u001b[1m151121.\u001b[0m :  Computer Systems Analysts\n",
      "3.  \u001b[1m151133.\u001b[0m :  Software Developers, Systems Software\n",
      "4.  \u001b[1m152041.\u001b[0m :  Statisticians\n",
      "5.  \u001b[1m113021.\u001b[0m :  Computer and Information Systems Managers\n"
     ]
    }
   ],
   "source": [
    "query_results()"
   ]
  },
  {
   "cell_type": "code",
   "execution_count": null,
   "metadata": {},
   "outputs": [],
   "source": []
  }
 ],
 "metadata": {
  "kernelspec": {
   "display_name": "Python 3",
   "language": "python",
   "name": "python3"
  },
  "language_info": {
   "codemirror_mode": {
    "name": "ipython",
    "version": 3
   },
   "file_extension": ".py",
   "mimetype": "text/x-python",
   "name": "python",
   "nbconvert_exporter": "python",
   "pygments_lexer": "ipython3",
   "version": "3.7.3"
  }
 },
 "nbformat": 4,
 "nbformat_minor": 2
}
